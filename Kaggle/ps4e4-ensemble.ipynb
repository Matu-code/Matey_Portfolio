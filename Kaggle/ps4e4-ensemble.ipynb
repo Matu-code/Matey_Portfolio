{
 "cells": [
  {
   "cell_type": "code",
   "execution_count": 1,
   "id": "05138419",
   "metadata": {
    "_cell_guid": "b1076dfc-b9ad-4769-8c92-a6c4dae69d19",
    "_uuid": "8f2839f25d086af736a60e9eeb907d3b93b6e0e5",
    "execution": {
     "iopub.execute_input": "2024-04-28T00:47:22.119334Z",
     "iopub.status.busy": "2024-04-28T00:47:22.118933Z",
     "iopub.status.idle": "2024-04-28T00:47:26.750122Z",
     "shell.execute_reply": "2024-04-28T00:47:26.748935Z"
    },
    "papermill": {
     "duration": 4.642142,
     "end_time": "2024-04-28T00:47:26.753131",
     "exception": false,
     "start_time": "2024-04-28T00:47:22.110989",
     "status": "completed"
    },
    "tags": []
   },
   "outputs": [
    {
     "name": "stdout",
     "output_type": "stream",
     "text": [
      "/kaggle/input/playground-series-s4e4/sample_submission.csv\n",
      "/kaggle/input/playground-series-s4e4/train.csv\n",
      "/kaggle/input/playground-series-s4e4/test.csv\n"
     ]
    }
   ],
   "source": [
    "# This Python 3 environment comes with many helpful analytics libraries installed\n",
    "# It is defined by the kaggle/python Docker image: https://github.com/kaggle/docker-python\n",
    "# For example, here's several helpful packages to load\n",
    "\n",
    "import numpy as np # linear algebra\n",
    "import pandas as pd # data processing, CSV file I/O (e.g. pd.read_csv)\n",
    "import optuna\n",
    "from xgboost import XGBRegressor\n",
    "from catboost import CatBoostRegressor\n",
    "from lightgbm import LGBMRegressor\n",
    "from sklearn.ensemble import VotingRegressor\n",
    "from sklearn.model_selection import train_test_split, GridSearchCV, KFold, StratifiedKFold\n",
    "from sklearn.metrics import mean_squared_log_error, make_scorer\n",
    "from sklearn.preprocessing import StandardScaler\n",
    "from sklearn.compose import TransformedTargetRegressor\n",
    "\n",
    "# Input data files are available in the read-only \"../input/\" directory\n",
    "# For example, running this (by clicking run or pressing Shift+Enter) will list all files under the input directory\n",
    "\n",
    "import os\n",
    "for dirname, _, filenames in os.walk('/kaggle/input'):\n",
    "    for filename in filenames:\n",
    "        print(os.path.join(dirname, filename))\n",
    "\n",
    "# You can write up to 20GB to the current directory (/kaggle/working/) that gets preserved as output when you create a version using \"Save & Run All\" \n",
    "# You can also write temporary files to /kaggle/temp/, but they won't be saved outside of the current session"
   ]
  },
  {
   "cell_type": "code",
   "execution_count": 2,
   "id": "68863158",
   "metadata": {
    "execution": {
     "iopub.execute_input": "2024-04-28T00:47:26.767697Z",
     "iopub.status.busy": "2024-04-28T00:47:26.766808Z",
     "iopub.status.idle": "2024-04-28T00:47:26.773308Z",
     "shell.execute_reply": "2024-04-28T00:47:26.771986Z"
    },
    "papermill": {
     "duration": 0.016355,
     "end_time": "2024-04-28T00:47:26.775701",
     "exception": false,
     "start_time": "2024-04-28T00:47:26.759346",
     "status": "completed"
    },
    "tags": []
   },
   "outputs": [],
   "source": [
    "def rmsle_score(y_true, y_pred):\n",
    "    \n",
    "    msle = mean_squared_log_error(y_true, y_pred)\n",
    "    rmsle = np.sqrt(msle)\n",
    "    return rmsle"
   ]
  },
  {
   "cell_type": "code",
   "execution_count": 3,
   "id": "7d2e351b",
   "metadata": {
    "execution": {
     "iopub.execute_input": "2024-04-28T00:47:26.789460Z",
     "iopub.status.busy": "2024-04-28T00:47:26.788790Z",
     "iopub.status.idle": "2024-04-28T00:47:26.793828Z",
     "shell.execute_reply": "2024-04-28T00:47:26.792923Z"
    },
    "papermill": {
     "duration": 0.014685,
     "end_time": "2024-04-28T00:47:26.796212",
     "exception": false,
     "start_time": "2024-04-28T00:47:26.781527",
     "status": "completed"
    },
    "tags": []
   },
   "outputs": [],
   "source": [
    "def add_feature(data):\n",
    "\n",
    "    data['Volume'] = data['Length'] * data['Diameter'] * data['Height']\n",
    "    return data"
   ]
  },
  {
   "cell_type": "code",
   "execution_count": 4,
   "id": "1602a9bf",
   "metadata": {
    "execution": {
     "iopub.execute_input": "2024-04-28T00:47:26.809418Z",
     "iopub.status.busy": "2024-04-28T00:47:26.808638Z",
     "iopub.status.idle": "2024-04-28T00:47:27.069792Z",
     "shell.execute_reply": "2024-04-28T00:47:27.068478Z"
    },
    "papermill": {
     "duration": 0.270621,
     "end_time": "2024-04-28T00:47:27.072437",
     "exception": false,
     "start_time": "2024-04-28T00:47:26.801816",
     "status": "completed"
    },
    "tags": []
   },
   "outputs": [],
   "source": [
    "test = pd.read_csv('/kaggle/input/playground-series-s4e4/test.csv')\n",
    "train = pd.read_csv('/kaggle/input/playground-series-s4e4/train.csv')"
   ]
  },
  {
   "cell_type": "code",
   "execution_count": 5,
   "id": "5e29416f",
   "metadata": {
    "execution": {
     "iopub.execute_input": "2024-04-28T00:47:27.086180Z",
     "iopub.status.busy": "2024-04-28T00:47:27.085349Z",
     "iopub.status.idle": "2024-04-28T00:47:27.091007Z",
     "shell.execute_reply": "2024-04-28T00:47:27.089893Z"
    },
    "papermill": {
     "duration": 0.015065,
     "end_time": "2024-04-28T00:47:27.093218",
     "exception": false,
     "start_time": "2024-04-28T00:47:27.078153",
     "status": "completed"
    },
    "tags": []
   },
   "outputs": [
    {
     "name": "stdout",
     "output_type": "stream",
     "text": [
      "Train dataset shape: \n",
      " (90615, 10)\n",
      "Test dataset shape: \n",
      " (60411, 9)\n"
     ]
    }
   ],
   "source": [
    "print('Train dataset shape: \\n', train.shape)\n",
    "print('Test dataset shape: \\n', test.shape)"
   ]
  },
  {
   "cell_type": "code",
   "execution_count": 6,
   "id": "e223c7b0",
   "metadata": {
    "execution": {
     "iopub.execute_input": "2024-04-28T00:47:27.106831Z",
     "iopub.status.busy": "2024-04-28T00:47:27.106446Z",
     "iopub.status.idle": "2024-04-28T00:47:27.114742Z",
     "shell.execute_reply": "2024-04-28T00:47:27.113476Z"
    },
    "papermill": {
     "duration": 0.018509,
     "end_time": "2024-04-28T00:47:27.117419",
     "exception": false,
     "start_time": "2024-04-28T00:47:27.098910",
     "status": "completed"
    },
    "tags": []
   },
   "outputs": [
    {
     "name": "stdout",
     "output_type": "stream",
     "text": [
      "Train dataset columns: \n",
      " Index(['id', 'Sex', 'Length', 'Diameter', 'Height', 'Whole weight',\n",
      "       'Whole weight.1', 'Whole weight.2', 'Shell weight', 'Rings'],\n",
      "      dtype='object')\n"
     ]
    }
   ],
   "source": [
    "print('Train dataset columns: \\n', train.columns)"
   ]
  },
  {
   "cell_type": "code",
   "execution_count": 7,
   "id": "167ade24",
   "metadata": {
    "execution": {
     "iopub.execute_input": "2024-04-28T00:47:27.131173Z",
     "iopub.status.busy": "2024-04-28T00:47:27.130740Z",
     "iopub.status.idle": "2024-04-28T00:47:27.136223Z",
     "shell.execute_reply": "2024-04-28T00:47:27.135373Z"
    },
    "papermill": {
     "duration": 0.015147,
     "end_time": "2024-04-28T00:47:27.138808",
     "exception": false,
     "start_time": "2024-04-28T00:47:27.123661",
     "status": "completed"
    },
    "tags": []
   },
   "outputs": [
    {
     "name": "stdout",
     "output_type": "stream",
     "text": [
      "Test dataset columns: \n",
      " Index(['id', 'Sex', 'Length', 'Diameter', 'Height', 'Whole weight',\n",
      "       'Whole weight.1', 'Whole weight.2', 'Shell weight'],\n",
      "      dtype='object')\n"
     ]
    }
   ],
   "source": [
    "print('Test dataset columns: \\n', test.columns)"
   ]
  },
  {
   "cell_type": "code",
   "execution_count": 8,
   "id": "e95faab4",
   "metadata": {
    "execution": {
     "iopub.execute_input": "2024-04-28T00:47:27.152765Z",
     "iopub.status.busy": "2024-04-28T00:47:27.152048Z",
     "iopub.status.idle": "2024-04-28T00:47:27.179477Z",
     "shell.execute_reply": "2024-04-28T00:47:27.178551Z"
    },
    "papermill": {
     "duration": 0.0375,
     "end_time": "2024-04-28T00:47:27.182153",
     "exception": false,
     "start_time": "2024-04-28T00:47:27.144653",
     "status": "completed"
    },
    "tags": []
   },
   "outputs": [
    {
     "data": {
      "text/html": [
       "<div>\n",
       "<style scoped>\n",
       "    .dataframe tbody tr th:only-of-type {\n",
       "        vertical-align: middle;\n",
       "    }\n",
       "\n",
       "    .dataframe tbody tr th {\n",
       "        vertical-align: top;\n",
       "    }\n",
       "\n",
       "    .dataframe thead th {\n",
       "        text-align: right;\n",
       "    }\n",
       "</style>\n",
       "<table border=\"1\" class=\"dataframe\">\n",
       "  <thead>\n",
       "    <tr style=\"text-align: right;\">\n",
       "      <th></th>\n",
       "      <th>id</th>\n",
       "      <th>Sex</th>\n",
       "      <th>Length</th>\n",
       "      <th>Diameter</th>\n",
       "      <th>Height</th>\n",
       "      <th>Whole weight</th>\n",
       "      <th>Whole weight.1</th>\n",
       "      <th>Whole weight.2</th>\n",
       "      <th>Shell weight</th>\n",
       "      <th>Rings</th>\n",
       "    </tr>\n",
       "  </thead>\n",
       "  <tbody>\n",
       "    <tr>\n",
       "      <th>0</th>\n",
       "      <td>0</td>\n",
       "      <td>F</td>\n",
       "      <td>0.550</td>\n",
       "      <td>0.430</td>\n",
       "      <td>0.150</td>\n",
       "      <td>0.7715</td>\n",
       "      <td>0.3285</td>\n",
       "      <td>0.1465</td>\n",
       "      <td>0.2400</td>\n",
       "      <td>11</td>\n",
       "    </tr>\n",
       "    <tr>\n",
       "      <th>1</th>\n",
       "      <td>1</td>\n",
       "      <td>F</td>\n",
       "      <td>0.630</td>\n",
       "      <td>0.490</td>\n",
       "      <td>0.145</td>\n",
       "      <td>1.1300</td>\n",
       "      <td>0.4580</td>\n",
       "      <td>0.2765</td>\n",
       "      <td>0.3200</td>\n",
       "      <td>11</td>\n",
       "    </tr>\n",
       "    <tr>\n",
       "      <th>2</th>\n",
       "      <td>2</td>\n",
       "      <td>I</td>\n",
       "      <td>0.160</td>\n",
       "      <td>0.110</td>\n",
       "      <td>0.025</td>\n",
       "      <td>0.0210</td>\n",
       "      <td>0.0055</td>\n",
       "      <td>0.0030</td>\n",
       "      <td>0.0050</td>\n",
       "      <td>6</td>\n",
       "    </tr>\n",
       "    <tr>\n",
       "      <th>3</th>\n",
       "      <td>3</td>\n",
       "      <td>M</td>\n",
       "      <td>0.595</td>\n",
       "      <td>0.475</td>\n",
       "      <td>0.150</td>\n",
       "      <td>0.9145</td>\n",
       "      <td>0.3755</td>\n",
       "      <td>0.2055</td>\n",
       "      <td>0.2500</td>\n",
       "      <td>10</td>\n",
       "    </tr>\n",
       "    <tr>\n",
       "      <th>4</th>\n",
       "      <td>4</td>\n",
       "      <td>I</td>\n",
       "      <td>0.555</td>\n",
       "      <td>0.425</td>\n",
       "      <td>0.130</td>\n",
       "      <td>0.7820</td>\n",
       "      <td>0.3695</td>\n",
       "      <td>0.1600</td>\n",
       "      <td>0.1975</td>\n",
       "      <td>9</td>\n",
       "    </tr>\n",
       "    <tr>\n",
       "      <th>5</th>\n",
       "      <td>5</td>\n",
       "      <td>F</td>\n",
       "      <td>0.610</td>\n",
       "      <td>0.480</td>\n",
       "      <td>0.170</td>\n",
       "      <td>1.2010</td>\n",
       "      <td>0.5335</td>\n",
       "      <td>0.3135</td>\n",
       "      <td>0.3085</td>\n",
       "      <td>10</td>\n",
       "    </tr>\n",
       "    <tr>\n",
       "      <th>6</th>\n",
       "      <td>6</td>\n",
       "      <td>M</td>\n",
       "      <td>0.415</td>\n",
       "      <td>0.325</td>\n",
       "      <td>0.110</td>\n",
       "      <td>0.3315</td>\n",
       "      <td>0.1655</td>\n",
       "      <td>0.0715</td>\n",
       "      <td>0.1300</td>\n",
       "      <td>9</td>\n",
       "    </tr>\n",
       "    <tr>\n",
       "      <th>7</th>\n",
       "      <td>7</td>\n",
       "      <td>F</td>\n",
       "      <td>0.610</td>\n",
       "      <td>0.490</td>\n",
       "      <td>0.150</td>\n",
       "      <td>1.1165</td>\n",
       "      <td>0.4955</td>\n",
       "      <td>0.2945</td>\n",
       "      <td>0.2950</td>\n",
       "      <td>9</td>\n",
       "    </tr>\n",
       "    <tr>\n",
       "      <th>8</th>\n",
       "      <td>8</td>\n",
       "      <td>I</td>\n",
       "      <td>0.205</td>\n",
       "      <td>0.150</td>\n",
       "      <td>0.040</td>\n",
       "      <td>0.0460</td>\n",
       "      <td>0.0145</td>\n",
       "      <td>0.0105</td>\n",
       "      <td>0.0100</td>\n",
       "      <td>4</td>\n",
       "    </tr>\n",
       "    <tr>\n",
       "      <th>9</th>\n",
       "      <td>9</td>\n",
       "      <td>I</td>\n",
       "      <td>0.565</td>\n",
       "      <td>0.425</td>\n",
       "      <td>0.125</td>\n",
       "      <td>0.6510</td>\n",
       "      <td>0.3795</td>\n",
       "      <td>0.1420</td>\n",
       "      <td>0.1800</td>\n",
       "      <td>8</td>\n",
       "    </tr>\n",
       "  </tbody>\n",
       "</table>\n",
       "</div>"
      ],
      "text/plain": [
       "   id Sex  Length  Diameter  Height  Whole weight  Whole weight.1  \\\n",
       "0   0   F   0.550     0.430   0.150        0.7715          0.3285   \n",
       "1   1   F   0.630     0.490   0.145        1.1300          0.4580   \n",
       "2   2   I   0.160     0.110   0.025        0.0210          0.0055   \n",
       "3   3   M   0.595     0.475   0.150        0.9145          0.3755   \n",
       "4   4   I   0.555     0.425   0.130        0.7820          0.3695   \n",
       "5   5   F   0.610     0.480   0.170        1.2010          0.5335   \n",
       "6   6   M   0.415     0.325   0.110        0.3315          0.1655   \n",
       "7   7   F   0.610     0.490   0.150        1.1165          0.4955   \n",
       "8   8   I   0.205     0.150   0.040        0.0460          0.0145   \n",
       "9   9   I   0.565     0.425   0.125        0.6510          0.3795   \n",
       "\n",
       "   Whole weight.2  Shell weight  Rings  \n",
       "0          0.1465        0.2400     11  \n",
       "1          0.2765        0.3200     11  \n",
       "2          0.0030        0.0050      6  \n",
       "3          0.2055        0.2500     10  \n",
       "4          0.1600        0.1975      9  \n",
       "5          0.3135        0.3085     10  \n",
       "6          0.0715        0.1300      9  \n",
       "7          0.2945        0.2950      9  \n",
       "8          0.0105        0.0100      4  \n",
       "9          0.1420        0.1800      8  "
      ]
     },
     "execution_count": 8,
     "metadata": {},
     "output_type": "execute_result"
    }
   ],
   "source": [
    "train.head(10)"
   ]
  },
  {
   "cell_type": "code",
   "execution_count": 9,
   "id": "59fac31c",
   "metadata": {
    "execution": {
     "iopub.execute_input": "2024-04-28T00:47:27.197164Z",
     "iopub.status.busy": "2024-04-28T00:47:27.196418Z",
     "iopub.status.idle": "2024-04-28T00:47:27.214203Z",
     "shell.execute_reply": "2024-04-28T00:47:27.212875Z"
    },
    "papermill": {
     "duration": 0.028126,
     "end_time": "2024-04-28T00:47:27.216914",
     "exception": false,
     "start_time": "2024-04-28T00:47:27.188788",
     "status": "completed"
    },
    "tags": []
   },
   "outputs": [
    {
     "data": {
      "text/html": [
       "<div>\n",
       "<style scoped>\n",
       "    .dataframe tbody tr th:only-of-type {\n",
       "        vertical-align: middle;\n",
       "    }\n",
       "\n",
       "    .dataframe tbody tr th {\n",
       "        vertical-align: top;\n",
       "    }\n",
       "\n",
       "    .dataframe thead th {\n",
       "        text-align: right;\n",
       "    }\n",
       "</style>\n",
       "<table border=\"1\" class=\"dataframe\">\n",
       "  <thead>\n",
       "    <tr style=\"text-align: right;\">\n",
       "      <th></th>\n",
       "      <th>id</th>\n",
       "      <th>Sex</th>\n",
       "      <th>Length</th>\n",
       "      <th>Diameter</th>\n",
       "      <th>Height</th>\n",
       "      <th>Whole weight</th>\n",
       "      <th>Whole weight.1</th>\n",
       "      <th>Whole weight.2</th>\n",
       "      <th>Shell weight</th>\n",
       "    </tr>\n",
       "  </thead>\n",
       "  <tbody>\n",
       "    <tr>\n",
       "      <th>0</th>\n",
       "      <td>90615</td>\n",
       "      <td>M</td>\n",
       "      <td>0.645</td>\n",
       "      <td>0.475</td>\n",
       "      <td>0.155</td>\n",
       "      <td>1.2380</td>\n",
       "      <td>0.6185</td>\n",
       "      <td>0.3125</td>\n",
       "      <td>0.3005</td>\n",
       "    </tr>\n",
       "    <tr>\n",
       "      <th>1</th>\n",
       "      <td>90616</td>\n",
       "      <td>M</td>\n",
       "      <td>0.580</td>\n",
       "      <td>0.460</td>\n",
       "      <td>0.160</td>\n",
       "      <td>0.9830</td>\n",
       "      <td>0.4785</td>\n",
       "      <td>0.2195</td>\n",
       "      <td>0.2750</td>\n",
       "    </tr>\n",
       "    <tr>\n",
       "      <th>2</th>\n",
       "      <td>90617</td>\n",
       "      <td>M</td>\n",
       "      <td>0.560</td>\n",
       "      <td>0.420</td>\n",
       "      <td>0.140</td>\n",
       "      <td>0.8395</td>\n",
       "      <td>0.3525</td>\n",
       "      <td>0.1845</td>\n",
       "      <td>0.2405</td>\n",
       "    </tr>\n",
       "    <tr>\n",
       "      <th>3</th>\n",
       "      <td>90618</td>\n",
       "      <td>M</td>\n",
       "      <td>0.570</td>\n",
       "      <td>0.490</td>\n",
       "      <td>0.145</td>\n",
       "      <td>0.8740</td>\n",
       "      <td>0.3525</td>\n",
       "      <td>0.1865</td>\n",
       "      <td>0.2350</td>\n",
       "    </tr>\n",
       "    <tr>\n",
       "      <th>4</th>\n",
       "      <td>90619</td>\n",
       "      <td>I</td>\n",
       "      <td>0.415</td>\n",
       "      <td>0.325</td>\n",
       "      <td>0.110</td>\n",
       "      <td>0.3580</td>\n",
       "      <td>0.1575</td>\n",
       "      <td>0.0670</td>\n",
       "      <td>0.1050</td>\n",
       "    </tr>\n",
       "    <tr>\n",
       "      <th>5</th>\n",
       "      <td>90620</td>\n",
       "      <td>M</td>\n",
       "      <td>0.560</td>\n",
       "      <td>0.425</td>\n",
       "      <td>0.140</td>\n",
       "      <td>0.8105</td>\n",
       "      <td>0.3525</td>\n",
       "      <td>0.1915</td>\n",
       "      <td>0.2150</td>\n",
       "    </tr>\n",
       "    <tr>\n",
       "      <th>6</th>\n",
       "      <td>90621</td>\n",
       "      <td>M</td>\n",
       "      <td>0.635</td>\n",
       "      <td>0.490</td>\n",
       "      <td>0.170</td>\n",
       "      <td>1.1835</td>\n",
       "      <td>0.4605</td>\n",
       "      <td>0.2445</td>\n",
       "      <td>0.3550</td>\n",
       "    </tr>\n",
       "    <tr>\n",
       "      <th>7</th>\n",
       "      <td>90622</td>\n",
       "      <td>I</td>\n",
       "      <td>0.340</td>\n",
       "      <td>0.250</td>\n",
       "      <td>0.075</td>\n",
       "      <td>0.1675</td>\n",
       "      <td>0.0750</td>\n",
       "      <td>0.0330</td>\n",
       "      <td>0.0480</td>\n",
       "    </tr>\n",
       "    <tr>\n",
       "      <th>8</th>\n",
       "      <td>90623</td>\n",
       "      <td>I</td>\n",
       "      <td>0.485</td>\n",
       "      <td>0.370</td>\n",
       "      <td>0.110</td>\n",
       "      <td>0.5360</td>\n",
       "      <td>0.2565</td>\n",
       "      <td>0.0980</td>\n",
       "      <td>0.1490</td>\n",
       "    </tr>\n",
       "    <tr>\n",
       "      <th>9</th>\n",
       "      <td>90624</td>\n",
       "      <td>F</td>\n",
       "      <td>0.640</td>\n",
       "      <td>0.500</td>\n",
       "      <td>0.195</td>\n",
       "      <td>1.3380</td>\n",
       "      <td>0.6470</td>\n",
       "      <td>0.3175</td>\n",
       "      <td>0.3965</td>\n",
       "    </tr>\n",
       "  </tbody>\n",
       "</table>\n",
       "</div>"
      ],
      "text/plain": [
       "      id Sex  Length  Diameter  Height  Whole weight  Whole weight.1  \\\n",
       "0  90615   M   0.645     0.475   0.155        1.2380          0.6185   \n",
       "1  90616   M   0.580     0.460   0.160        0.9830          0.4785   \n",
       "2  90617   M   0.560     0.420   0.140        0.8395          0.3525   \n",
       "3  90618   M   0.570     0.490   0.145        0.8740          0.3525   \n",
       "4  90619   I   0.415     0.325   0.110        0.3580          0.1575   \n",
       "5  90620   M   0.560     0.425   0.140        0.8105          0.3525   \n",
       "6  90621   M   0.635     0.490   0.170        1.1835          0.4605   \n",
       "7  90622   I   0.340     0.250   0.075        0.1675          0.0750   \n",
       "8  90623   I   0.485     0.370   0.110        0.5360          0.2565   \n",
       "9  90624   F   0.640     0.500   0.195        1.3380          0.6470   \n",
       "\n",
       "   Whole weight.2  Shell weight  \n",
       "0          0.3125        0.3005  \n",
       "1          0.2195        0.2750  \n",
       "2          0.1845        0.2405  \n",
       "3          0.1865        0.2350  \n",
       "4          0.0670        0.1050  \n",
       "5          0.1915        0.2150  \n",
       "6          0.2445        0.3550  \n",
       "7          0.0330        0.0480  \n",
       "8          0.0980        0.1490  \n",
       "9          0.3175        0.3965  "
      ]
     },
     "execution_count": 9,
     "metadata": {},
     "output_type": "execute_result"
    }
   ],
   "source": [
    "test.head(10)"
   ]
  },
  {
   "cell_type": "code",
   "execution_count": 10,
   "id": "3f0bfeea",
   "metadata": {
    "execution": {
     "iopub.execute_input": "2024-04-28T00:47:27.234980Z",
     "iopub.status.busy": "2024-04-28T00:47:27.232803Z",
     "iopub.status.idle": "2024-04-28T00:47:27.238699Z",
     "shell.execute_reply": "2024-04-28T00:47:27.237727Z"
    },
    "papermill": {
     "duration": 0.016369,
     "end_time": "2024-04-28T00:47:27.241066",
     "exception": false,
     "start_time": "2024-04-28T00:47:27.224697",
     "status": "completed"
    },
    "tags": []
   },
   "outputs": [],
   "source": [
    "# train = add_feature(train)\n",
    "# test = add_feature(test)"
   ]
  },
  {
   "cell_type": "code",
   "execution_count": 11,
   "id": "62a2b023",
   "metadata": {
    "execution": {
     "iopub.execute_input": "2024-04-28T00:47:27.256852Z",
     "iopub.status.busy": "2024-04-28T00:47:27.256040Z",
     "iopub.status.idle": "2024-04-28T00:47:27.260253Z",
     "shell.execute_reply": "2024-04-28T00:47:27.259337Z"
    },
    "papermill": {
     "duration": 0.015197,
     "end_time": "2024-04-28T00:47:27.263127",
     "exception": false,
     "start_time": "2024-04-28T00:47:27.247930",
     "status": "completed"
    },
    "tags": []
   },
   "outputs": [],
   "source": [
    "# train['Volume']"
   ]
  },
  {
   "cell_type": "code",
   "execution_count": 12,
   "id": "6cf2787e",
   "metadata": {
    "execution": {
     "iopub.execute_input": "2024-04-28T00:47:27.279845Z",
     "iopub.status.busy": "2024-04-28T00:47:27.279025Z",
     "iopub.status.idle": "2024-04-28T00:47:27.327330Z",
     "shell.execute_reply": "2024-04-28T00:47:27.325954Z"
    },
    "papermill": {
     "duration": 0.059649,
     "end_time": "2024-04-28T00:47:27.330008",
     "exception": false,
     "start_time": "2024-04-28T00:47:27.270359",
     "status": "completed"
    },
    "tags": []
   },
   "outputs": [],
   "source": [
    "scaler = StandardScaler()\n",
    "\n",
    "column_to_keep_unchanged_train = ['Sex', 'Rings']\n",
    "columns_to_scale = [col for col in train.columns if col not in column_to_keep_unchanged_train]\n",
    "\n",
    "scaled_features = scaler.fit_transform(train[columns_to_scale])\n",
    "\n",
    "scaled_train = pd.DataFrame(scaled_features, columns=columns_to_scale)\n",
    "\n",
    "for col in column_to_keep_unchanged_train:\n",
    "    scaled_train[col] = train[col]"
   ]
  },
  {
   "cell_type": "code",
   "execution_count": 13,
   "id": "b93f2c08",
   "metadata": {
    "execution": {
     "iopub.execute_input": "2024-04-28T00:47:27.344397Z",
     "iopub.status.busy": "2024-04-28T00:47:27.344000Z",
     "iopub.status.idle": "2024-04-28T00:47:27.358831Z",
     "shell.execute_reply": "2024-04-28T00:47:27.357220Z"
    },
    "papermill": {
     "duration": 0.025162,
     "end_time": "2024-04-28T00:47:27.361566",
     "exception": false,
     "start_time": "2024-04-28T00:47:27.336404",
     "status": "completed"
    },
    "tags": []
   },
   "outputs": [],
   "source": [
    "column_to_keep_unchanged_test = 'Sex'\n",
    "columns_to_scale = [col for col in test.columns if col != column_to_keep_unchanged_test]\n",
    "\n",
    "scaled_features = scaler.transform(test[columns_to_scale])\n",
    "\n",
    "scaled_test = pd.DataFrame(scaled_features, columns=columns_to_scale)\n",
    "\n",
    "scaled_test[column_to_keep_unchanged_test] = test[column_to_keep_unchanged_test]"
   ]
  },
  {
   "cell_type": "code",
   "execution_count": 14,
   "id": "504a65be",
   "metadata": {
    "execution": {
     "iopub.execute_input": "2024-04-28T00:47:27.376637Z",
     "iopub.status.busy": "2024-04-28T00:47:27.376238Z",
     "iopub.status.idle": "2024-04-28T00:47:27.413475Z",
     "shell.execute_reply": "2024-04-28T00:47:27.412367Z"
    },
    "papermill": {
     "duration": 0.048086,
     "end_time": "2024-04-28T00:47:27.416257",
     "exception": false,
     "start_time": "2024-04-28T00:47:27.368171",
     "status": "completed"
    },
    "tags": []
   },
   "outputs": [],
   "source": [
    "scaled_train = pd.get_dummies(scaled_train, columns=['Sex'])\n",
    "scaled_test = pd.get_dummies(scaled_test, columns=['Sex'])"
   ]
  },
  {
   "cell_type": "code",
   "execution_count": 15,
   "id": "cc0ef785",
   "metadata": {
    "execution": {
     "iopub.execute_input": "2024-04-28T00:47:27.431673Z",
     "iopub.status.busy": "2024-04-28T00:47:27.430992Z",
     "iopub.status.idle": "2024-04-28T00:47:27.441625Z",
     "shell.execute_reply": "2024-04-28T00:47:27.440690Z"
    },
    "papermill": {
     "duration": 0.021458,
     "end_time": "2024-04-28T00:47:27.444039",
     "exception": false,
     "start_time": "2024-04-28T00:47:27.422581",
     "status": "completed"
    },
    "tags": []
   },
   "outputs": [],
   "source": [
    "X_train = scaled_train.drop(['Rings', 'id'], axis=1)\n",
    "y_train = scaled_train['Rings']\n",
    "\n",
    "X_test = scaled_test.drop('id', axis=1)"
   ]
  },
  {
   "cell_type": "code",
   "execution_count": 16,
   "id": "ad093786",
   "metadata": {
    "execution": {
     "iopub.execute_input": "2024-04-28T00:47:27.458790Z",
     "iopub.status.busy": "2024-04-28T00:47:27.458363Z",
     "iopub.status.idle": "2024-04-28T00:47:27.476374Z",
     "shell.execute_reply": "2024-04-28T00:47:27.475017Z"
    },
    "papermill": {
     "duration": 0.02815,
     "end_time": "2024-04-28T00:47:27.478626",
     "exception": false,
     "start_time": "2024-04-28T00:47:27.450476",
     "status": "completed"
    },
    "tags": []
   },
   "outputs": [
    {
     "data": {
      "text/html": [
       "<div>\n",
       "<style scoped>\n",
       "    .dataframe tbody tr th:only-of-type {\n",
       "        vertical-align: middle;\n",
       "    }\n",
       "\n",
       "    .dataframe tbody tr th {\n",
       "        vertical-align: top;\n",
       "    }\n",
       "\n",
       "    .dataframe thead th {\n",
       "        text-align: right;\n",
       "    }\n",
       "</style>\n",
       "<table border=\"1\" class=\"dataframe\">\n",
       "  <thead>\n",
       "    <tr style=\"text-align: right;\">\n",
       "      <th></th>\n",
       "      <th>Length</th>\n",
       "      <th>Diameter</th>\n",
       "      <th>Height</th>\n",
       "      <th>Whole weight</th>\n",
       "      <th>Whole weight.1</th>\n",
       "      <th>Whole weight.2</th>\n",
       "      <th>Shell weight</th>\n",
       "      <th>Sex_F</th>\n",
       "      <th>Sex_I</th>\n",
       "      <th>Sex_M</th>\n",
       "    </tr>\n",
       "  </thead>\n",
       "  <tbody>\n",
       "    <tr>\n",
       "      <th>0</th>\n",
       "      <td>0.278317</td>\n",
       "      <td>0.288912</td>\n",
       "      <td>0.382451</td>\n",
       "      <td>-0.038314</td>\n",
       "      <td>-0.060061</td>\n",
       "      <td>-0.227155</td>\n",
       "      <td>0.108309</td>\n",
       "      <td>True</td>\n",
       "      <td>False</td>\n",
       "      <td>False</td>\n",
       "    </tr>\n",
       "    <tr>\n",
       "      <th>1</th>\n",
       "      <td>0.955044</td>\n",
       "      <td>0.900996</td>\n",
       "      <td>0.250897</td>\n",
       "      <td>0.745005</td>\n",
       "      <td>0.573416</td>\n",
       "      <td>1.061143</td>\n",
       "      <td>0.722736</td>\n",
       "      <td>True</td>\n",
       "      <td>False</td>\n",
       "      <td>False</td>\n",
       "    </tr>\n",
       "    <tr>\n",
       "      <th>2</th>\n",
       "      <td>-3.020727</td>\n",
       "      <td>-2.975535</td>\n",
       "      <td>-2.906386</td>\n",
       "      <td>-1.678148</td>\n",
       "      <td>-1.640084</td>\n",
       "      <td>-1.649238</td>\n",
       "      <td>-1.696570</td>\n",
       "      <td>False</td>\n",
       "      <td>True</td>\n",
       "      <td>False</td>\n",
       "    </tr>\n",
       "    <tr>\n",
       "      <th>3</th>\n",
       "      <td>0.658976</td>\n",
       "      <td>0.747975</td>\n",
       "      <td>0.382451</td>\n",
       "      <td>0.274140</td>\n",
       "      <td>0.169850</td>\n",
       "      <td>0.357534</td>\n",
       "      <td>0.185113</td>\n",
       "      <td>False</td>\n",
       "      <td>False</td>\n",
       "      <td>True</td>\n",
       "    </tr>\n",
       "    <tr>\n",
       "      <th>4</th>\n",
       "      <td>0.320613</td>\n",
       "      <td>0.237905</td>\n",
       "      <td>-0.143763</td>\n",
       "      <td>-0.015371</td>\n",
       "      <td>0.140499</td>\n",
       "      <td>-0.093370</td>\n",
       "      <td>-0.218105</td>\n",
       "      <td>False</td>\n",
       "      <td>True</td>\n",
       "      <td>False</td>\n",
       "    </tr>\n",
       "    <tr>\n",
       "      <th>...</th>\n",
       "      <td>...</td>\n",
       "      <td>...</td>\n",
       "      <td>...</td>\n",
       "      <td>...</td>\n",
       "      <td>...</td>\n",
       "      <td>...</td>\n",
       "      <td>...</td>\n",
       "      <td>...</td>\n",
       "      <td>...</td>\n",
       "      <td>...</td>\n",
       "    </tr>\n",
       "    <tr>\n",
       "      <th>90610</th>\n",
       "      <td>-1.540387</td>\n",
       "      <td>-1.700360</td>\n",
       "      <td>-1.590852</td>\n",
       "      <td>-1.377712</td>\n",
       "      <td>-1.331906</td>\n",
       "      <td>-1.312298</td>\n",
       "      <td>-1.389356</td>\n",
       "      <td>False</td>\n",
       "      <td>False</td>\n",
       "      <td>True</td>\n",
       "    </tr>\n",
       "    <tr>\n",
       "      <th>90611</th>\n",
       "      <td>0.320613</td>\n",
       "      <td>0.237905</td>\n",
       "      <td>0.382451</td>\n",
       "      <td>0.196573</td>\n",
       "      <td>0.223658</td>\n",
       "      <td>0.119694</td>\n",
       "      <td>0.108309</td>\n",
       "      <td>False</td>\n",
       "      <td>False</td>\n",
       "      <td>True</td>\n",
       "    </tr>\n",
       "    <tr>\n",
       "      <th>90612</th>\n",
       "      <td>-0.694478</td>\n",
       "      <td>-0.731228</td>\n",
       "      <td>-1.064638</td>\n",
       "      <td>-1.021559</td>\n",
       "      <td>-0.928340</td>\n",
       "      <td>-0.901034</td>\n",
       "      <td>-1.109024</td>\n",
       "      <td>False</td>\n",
       "      <td>True</td>\n",
       "      <td>False</td>\n",
       "    </tr>\n",
       "    <tr>\n",
       "      <th>90613</th>\n",
       "      <td>-1.455796</td>\n",
       "      <td>-1.343312</td>\n",
       "      <td>-1.590852</td>\n",
       "      <td>-1.287035</td>\n",
       "      <td>-1.187601</td>\n",
       "      <td>-1.193379</td>\n",
       "      <td>-1.197348</td>\n",
       "      <td>False</td>\n",
       "      <td>True</td>\n",
       "      <td>False</td>\n",
       "    </tr>\n",
       "    <tr>\n",
       "      <th>90614</th>\n",
       "      <td>-0.779069</td>\n",
       "      <td>-0.782235</td>\n",
       "      <td>-0.933084</td>\n",
       "      <td>-0.969119</td>\n",
       "      <td>-0.921003</td>\n",
       "      <td>-0.901034</td>\n",
       "      <td>-0.928536</td>\n",
       "      <td>False</td>\n",
       "      <td>True</td>\n",
       "      <td>False</td>\n",
       "    </tr>\n",
       "  </tbody>\n",
       "</table>\n",
       "<p>90615 rows × 10 columns</p>\n",
       "</div>"
      ],
      "text/plain": [
       "         Length  Diameter    Height  Whole weight  Whole weight.1  \\\n",
       "0      0.278317  0.288912  0.382451     -0.038314       -0.060061   \n",
       "1      0.955044  0.900996  0.250897      0.745005        0.573416   \n",
       "2     -3.020727 -2.975535 -2.906386     -1.678148       -1.640084   \n",
       "3      0.658976  0.747975  0.382451      0.274140        0.169850   \n",
       "4      0.320613  0.237905 -0.143763     -0.015371        0.140499   \n",
       "...         ...       ...       ...           ...             ...   \n",
       "90610 -1.540387 -1.700360 -1.590852     -1.377712       -1.331906   \n",
       "90611  0.320613  0.237905  0.382451      0.196573        0.223658   \n",
       "90612 -0.694478 -0.731228 -1.064638     -1.021559       -0.928340   \n",
       "90613 -1.455796 -1.343312 -1.590852     -1.287035       -1.187601   \n",
       "90614 -0.779069 -0.782235 -0.933084     -0.969119       -0.921003   \n",
       "\n",
       "       Whole weight.2  Shell weight  Sex_F  Sex_I  Sex_M  \n",
       "0           -0.227155      0.108309   True  False  False  \n",
       "1            1.061143      0.722736   True  False  False  \n",
       "2           -1.649238     -1.696570  False   True  False  \n",
       "3            0.357534      0.185113  False  False   True  \n",
       "4           -0.093370     -0.218105  False   True  False  \n",
       "...               ...           ...    ...    ...    ...  \n",
       "90610       -1.312298     -1.389356  False  False   True  \n",
       "90611        0.119694      0.108309  False  False   True  \n",
       "90612       -0.901034     -1.109024  False   True  False  \n",
       "90613       -1.193379     -1.197348  False   True  False  \n",
       "90614       -0.901034     -0.928536  False   True  False  \n",
       "\n",
       "[90615 rows x 10 columns]"
      ]
     },
     "execution_count": 16,
     "metadata": {},
     "output_type": "execute_result"
    }
   ],
   "source": [
    "X_train"
   ]
  },
  {
   "cell_type": "code",
   "execution_count": 17,
   "id": "7bed8834",
   "metadata": {
    "execution": {
     "iopub.execute_input": "2024-04-28T00:47:27.493692Z",
     "iopub.status.busy": "2024-04-28T00:47:27.493319Z",
     "iopub.status.idle": "2024-04-28T00:47:27.502220Z",
     "shell.execute_reply": "2024-04-28T00:47:27.500997Z"
    },
    "papermill": {
     "duration": 0.019463,
     "end_time": "2024-04-28T00:47:27.504753",
     "exception": false,
     "start_time": "2024-04-28T00:47:27.485290",
     "status": "completed"
    },
    "tags": []
   },
   "outputs": [],
   "source": [
    "cb = CatBoostRegressor(learning_rate=0.1, iterations=1000, verbose=0)\n",
    "xgb = XGBRegressor()\n",
    "lgbm = LGBMRegressor()\n",
    "\n",
    "models = [('cb', cb), ('xgb', xgb), ('lgbm', lgbm)]\n",
    "\n",
    "ensemble = VotingRegressor(models)"
   ]
  },
  {
   "cell_type": "code",
   "execution_count": 18,
   "id": "fd2590d4",
   "metadata": {
    "execution": {
     "iopub.execute_input": "2024-04-28T00:47:27.520492Z",
     "iopub.status.busy": "2024-04-28T00:47:27.520053Z",
     "iopub.status.idle": "2024-04-28T00:48:19.653437Z",
     "shell.execute_reply": "2024-04-28T00:48:19.652340Z"
    },
    "papermill": {
     "duration": 52.143912,
     "end_time": "2024-04-28T00:48:19.655874",
     "exception": false,
     "start_time": "2024-04-28T00:47:27.511962",
     "status": "completed"
    },
    "tags": []
   },
   "outputs": [
    {
     "name": "stdout",
     "output_type": "stream",
     "text": [
      "[LightGBM] [Warning] Found whitespace in feature_names, replace with underlines\n",
      "[LightGBM] [Info] Auto-choosing col-wise multi-threading, the overhead of testing was 0.013777 seconds.\n",
      "You can set `force_col_wise=true` to remove the overhead.\n",
      "[LightGBM] [Info] Total Bins 1335\n",
      "[LightGBM] [Info] Number of data points in the train set: 72492, number of used features: 10\n",
      "[LightGBM] [Info] Start training from score 2.328973\n",
      "[LightGBM] [Warning] Found whitespace in feature_names, replace with underlines\n",
      "[LightGBM] [Info] Auto-choosing col-wise multi-threading, the overhead of testing was 0.010818 seconds.\n",
      "You can set `force_col_wise=true` to remove the overhead.\n",
      "[LightGBM] [Info] Total Bins 1333\n",
      "[LightGBM] [Info] Number of data points in the train set: 72492, number of used features: 10\n",
      "[LightGBM] [Info] Start training from score 2.328978\n",
      "[LightGBM] [Warning] Found whitespace in feature_names, replace with underlines\n",
      "[LightGBM] [Info] Auto-choosing col-wise multi-threading, the overhead of testing was 0.010913 seconds.\n",
      "You can set `force_col_wise=true` to remove the overhead.\n",
      "[LightGBM] [Info] Total Bins 1333\n",
      "[LightGBM] [Info] Number of data points in the train set: 72492, number of used features: 10\n",
      "[LightGBM] [Info] Start training from score 2.328959\n",
      "[LightGBM] [Warning] Found whitespace in feature_names, replace with underlines\n",
      "[LightGBM] [Info] Auto-choosing col-wise multi-threading, the overhead of testing was 0.010827 seconds.\n",
      "You can set `force_col_wise=true` to remove the overhead.\n",
      "[LightGBM] [Info] Total Bins 1333\n",
      "[LightGBM] [Info] Number of data points in the train set: 72492, number of used features: 10\n",
      "[LightGBM] [Info] Start training from score 2.328946\n",
      "[LightGBM] [Warning] Found whitespace in feature_names, replace with underlines\n",
      "[LightGBM] [Info] Auto-choosing col-wise multi-threading, the overhead of testing was 0.010863 seconds.\n",
      "You can set `force_col_wise=true` to remove the overhead.\n",
      "[LightGBM] [Info] Total Bins 1334\n",
      "[LightGBM] [Info] Number of data points in the train set: 72492, number of used features: 10\n",
      "[LightGBM] [Info] Start training from score 2.328942\n"
     ]
    }
   ],
   "source": [
    "kf = StratifiedKFold(n_splits=5, shuffle=True, random_state=42)\n",
    "\n",
    "model = TransformedTargetRegressor(\n",
    "        regressor=ensemble,\n",
    "        func=np.log1p,\n",
    "        inverse_func=np.expm1\n",
    "    )\n",
    "\n",
    "rmsle_list = []\n",
    "models = []\n",
    "for train_index, val_index in kf.split(X_train, y_train):\n",
    "\n",
    "    X_train_fold, X_val = X_train.iloc[train_index], X_train.iloc[val_index]\n",
    "    y_train_fold, y_val = y_train.iloc[train_index], y_train.iloc[val_index]\n",
    "\n",
    "    model.fit(X_train_fold, y_train_fold)\n",
    "    y_pred_val = model.predict(X_val)\n",
    "    models.append(model)\n",
    "    rmsle = rmsle_score(y_val, y_pred_val)\n",
    "    rmsle_list.append(rmsle)\n",
    "    score = np.mean(rmsle_list)\n",
    "\n",
    "y_preds = []\n",
    "for model in models:\n",
    "    y_pred = model.predict(X_test)\n",
    "    y_preds.append(y_pred)\n",
    "y_preds = np.array(y_preds)\n",
    "y_preds_avg = np.mean(y_preds, axis=0)"
   ]
  },
  {
   "cell_type": "code",
   "execution_count": 19,
   "id": "2c855516",
   "metadata": {
    "execution": {
     "iopub.execute_input": "2024-04-28T00:48:19.673260Z",
     "iopub.status.busy": "2024-04-28T00:48:19.672824Z",
     "iopub.status.idle": "2024-04-28T00:48:19.678746Z",
     "shell.execute_reply": "2024-04-28T00:48:19.677536Z"
    },
    "papermill": {
     "duration": 0.017518,
     "end_time": "2024-04-28T00:48:19.681127",
     "exception": false,
     "start_time": "2024-04-28T00:48:19.663609",
     "status": "completed"
    },
    "tags": []
   },
   "outputs": [
    {
     "name": "stdout",
     "output_type": "stream",
     "text": [
      "The mean RMSLE is:  0.14881100682991472\n"
     ]
    }
   ],
   "source": [
    "print('The mean RMSLE is: ', score)"
   ]
  },
  {
   "cell_type": "code",
   "execution_count": 20,
   "id": "aae56d62",
   "metadata": {
    "execution": {
     "iopub.execute_input": "2024-04-28T00:48:19.697428Z",
     "iopub.status.busy": "2024-04-28T00:48:19.697019Z",
     "iopub.status.idle": "2024-04-28T00:48:19.710398Z",
     "shell.execute_reply": "2024-04-28T00:48:19.709177Z"
    },
    "papermill": {
     "duration": 0.02456,
     "end_time": "2024-04-28T00:48:19.712748",
     "exception": false,
     "start_time": "2024-04-28T00:48:19.688188",
     "status": "completed"
    },
    "tags": []
   },
   "outputs": [
    {
     "data": {
      "text/html": [
       "<div>\n",
       "<style scoped>\n",
       "    .dataframe tbody tr th:only-of-type {\n",
       "        vertical-align: middle;\n",
       "    }\n",
       "\n",
       "    .dataframe tbody tr th {\n",
       "        vertical-align: top;\n",
       "    }\n",
       "\n",
       "    .dataframe thead th {\n",
       "        text-align: right;\n",
       "    }\n",
       "</style>\n",
       "<table border=\"1\" class=\"dataframe\">\n",
       "  <thead>\n",
       "    <tr style=\"text-align: right;\">\n",
       "      <th></th>\n",
       "      <th>id</th>\n",
       "      <th>Rings</th>\n",
       "    </tr>\n",
       "  </thead>\n",
       "  <tbody>\n",
       "    <tr>\n",
       "      <th>0</th>\n",
       "      <td>90615</td>\n",
       "      <td>9.668948</td>\n",
       "    </tr>\n",
       "    <tr>\n",
       "      <th>1</th>\n",
       "      <td>90616</td>\n",
       "      <td>9.767095</td>\n",
       "    </tr>\n",
       "    <tr>\n",
       "      <th>2</th>\n",
       "      <td>90617</td>\n",
       "      <td>10.065735</td>\n",
       "    </tr>\n",
       "    <tr>\n",
       "      <th>3</th>\n",
       "      <td>90618</td>\n",
       "      <td>10.607554</td>\n",
       "    </tr>\n",
       "    <tr>\n",
       "      <th>4</th>\n",
       "      <td>90619</td>\n",
       "      <td>7.524032</td>\n",
       "    </tr>\n",
       "    <tr>\n",
       "      <th>...</th>\n",
       "      <td>...</td>\n",
       "      <td>...</td>\n",
       "    </tr>\n",
       "    <tr>\n",
       "      <th>60406</th>\n",
       "      <td>151021</td>\n",
       "      <td>6.237793</td>\n",
       "    </tr>\n",
       "    <tr>\n",
       "      <th>60407</th>\n",
       "      <td>151022</td>\n",
       "      <td>9.226562</td>\n",
       "    </tr>\n",
       "    <tr>\n",
       "      <th>60408</th>\n",
       "      <td>151023</td>\n",
       "      <td>12.189552</td>\n",
       "    </tr>\n",
       "    <tr>\n",
       "      <th>60409</th>\n",
       "      <td>151024</td>\n",
       "      <td>12.895833</td>\n",
       "    </tr>\n",
       "    <tr>\n",
       "      <th>60410</th>\n",
       "      <td>151025</td>\n",
       "      <td>8.232133</td>\n",
       "    </tr>\n",
       "  </tbody>\n",
       "</table>\n",
       "<p>60411 rows × 2 columns</p>\n",
       "</div>"
      ],
      "text/plain": [
       "           id      Rings\n",
       "0       90615   9.668948\n",
       "1       90616   9.767095\n",
       "2       90617  10.065735\n",
       "3       90618  10.607554\n",
       "4       90619   7.524032\n",
       "...       ...        ...\n",
       "60406  151021   6.237793\n",
       "60407  151022   9.226562\n",
       "60408  151023  12.189552\n",
       "60409  151024  12.895833\n",
       "60410  151025   8.232133\n",
       "\n",
       "[60411 rows x 2 columns]"
      ]
     },
     "execution_count": 20,
     "metadata": {},
     "output_type": "execute_result"
    }
   ],
   "source": [
    "submission = pd.DataFrame({'id': test['id'], 'Rings': y_preds_avg})\n",
    "\n",
    "submission"
   ]
  },
  {
   "cell_type": "code",
   "execution_count": 21,
   "id": "538f4a5d",
   "metadata": {
    "execution": {
     "iopub.execute_input": "2024-04-28T00:48:19.729498Z",
     "iopub.status.busy": "2024-04-28T00:48:19.729108Z",
     "iopub.status.idle": "2024-04-28T00:48:19.867957Z",
     "shell.execute_reply": "2024-04-28T00:48:19.866793Z"
    },
    "papermill": {
     "duration": 0.150392,
     "end_time": "2024-04-28T00:48:19.870680",
     "exception": false,
     "start_time": "2024-04-28T00:48:19.720288",
     "status": "completed"
    },
    "tags": []
   },
   "outputs": [],
   "source": [
    "submission.to_csv('submission.csv', index=False)"
   ]
  }
 ],
 "metadata": {
  "kaggle": {
   "accelerator": "none",
   "dataSources": [
    {
     "databundleVersionId": 8096274,
     "sourceId": 72489,
     "sourceType": "competition"
    }
   ],
   "dockerImageVersionId": 30684,
   "isGpuEnabled": false,
   "isInternetEnabled": true,
   "language": "python",
   "sourceType": "notebook"
  },
  "kernelspec": {
   "display_name": "Python 3",
   "language": "python",
   "name": "python3"
  },
  "language_info": {
   "codemirror_mode": {
    "name": "ipython",
    "version": 3
   },
   "file_extension": ".py",
   "mimetype": "text/x-python",
   "name": "python",
   "nbconvert_exporter": "python",
   "pygments_lexer": "ipython3",
   "version": "3.10.13"
  },
  "papermill": {
   "default_parameters": {},
   "duration": 61.353507,
   "end_time": "2024-04-28T00:48:20.599961",
   "environment_variables": {},
   "exception": null,
   "input_path": "__notebook__.ipynb",
   "output_path": "__notebook__.ipynb",
   "parameters": {},
   "start_time": "2024-04-28T00:47:19.246454",
   "version": "2.5.0"
  }
 },
 "nbformat": 4,
 "nbformat_minor": 5
}
