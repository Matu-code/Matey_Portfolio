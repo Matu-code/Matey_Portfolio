{
 "cells": [
  {
   "cell_type": "code",
   "execution_count": 1,
   "id": "511d9275-975e-4af1-99cf-137c8b762639",
   "metadata": {},
   "outputs": [
    {
     "name": "stderr",
     "output_type": "stream",
     "text": [
      "2024-01-17 20:34:39.627320: E external/local_xla/xla/stream_executor/cuda/cuda_dnn.cc:9261] Unable to register cuDNN factory: Attempting to register factory for plugin cuDNN when one has already been registered\n",
      "2024-01-17 20:34:39.627386: E external/local_xla/xla/stream_executor/cuda/cuda_fft.cc:607] Unable to register cuFFT factory: Attempting to register factory for plugin cuFFT when one has already been registered\n",
      "2024-01-17 20:34:39.629086: E external/local_xla/xla/stream_executor/cuda/cuda_blas.cc:1515] Unable to register cuBLAS factory: Attempting to register factory for plugin cuBLAS when one has already been registered\n",
      "2024-01-17 20:34:39.636477: I tensorflow/core/platform/cpu_feature_guard.cc:182] This TensorFlow binary is optimized to use available CPU instructions in performance-critical operations.\n",
      "To enable the following instructions: AVX2 FMA, in other operations, rebuild TensorFlow with the appropriate compiler flags.\n"
     ]
    }
   ],
   "source": [
    "import matplotlib.pyplot as plt\n",
    "import numpy as np\n",
    "import pandas as pd\n",
    "import os\n",
    "\n",
    "from keras.models import load_model\n",
    "import keras.backend as K\n",
    "\n",
    "import cv2\n",
    "\n",
    "from skimage.morphology import skeletonize\n",
    "\n",
    "from skan import Skeleton, summarize\n",
    "from skan.csr import skeleton_to_csgraph\n",
    "\n",
    "from patchify import patchify, unpatchify\n",
    "\n",
    "from skimage import morphology\n",
    "\n",
    "import networkx as nx"
   ]
  },
  {
   "cell_type": "code",
   "execution_count": 2,
   "id": "418c97b1-3759-4909-80bd-15bf7cb58506",
   "metadata": {},
   "outputs": [],
   "source": [
    "def load_images(path, type):\n",
    "\n",
    "    file_list = os.listdir(path)\n",
    "    images = []\n",
    "\n",
    "    for filename in file_list:\n",
    "        if filename.endswith(type):\n",
    "            input_image_path = os.path.join(path, filename)\n",
    "            input_image = cv2.imread(input_image_path, 0)\n",
    "            images.append(input_image)\n",
    "    \n",
    "    return images"
   ]
  },
  {
   "cell_type": "code",
   "execution_count": 3,
   "id": "d4aac49c-c305-4b8d-ba90-487796ba4724",
   "metadata": {},
   "outputs": [],
   "source": [
    "def roi_image(input_im):\n",
    "\n",
    "    if len(input_im.shape) == 3 and input_im.shape[2] == 3:\n",
    "        im_gray = cv2.cvtColor(input_im, cv2.COLOR_BGR2GRAY)\n",
    "    elif len(input_im.shape) == 2:\n",
    "        # If the input image is already grayscale, no need to convert\n",
    "        im_gray = input_im\n",
    "    else:\n",
    "        # Handle other cases (e.g., images with more than 3 channels)\n",
    "        raise ValueError(\"Unsupported number of channels in input image\")\n",
    "\n",
    "    kernel = np.ones((50, 50), dtype=\"uint8\")\n",
    "\n",
    "    im_e = cv2.dilate(im_gray, kernel, iterations=1)\n",
    "    im_closing = cv2.erode(im_e, kernel, iterations=1)\n",
    "\n",
    "    th, output_im = cv2.threshold(im_closing, 160, 255, cv2.THRESH_BINARY)\n",
    "\n",
    "    retval, labels, stats, centroids = cv2.connectedComponentsWithStats(output_im)\n",
    "\n",
    "    area_of_interest = None\n",
    "    largest_area = 0\n",
    "\n",
    "    for i in range(1, len(stats)):\n",
    "        x, y, w, h, area = stats[i]\n",
    "        if area > largest_area:\n",
    "            largest_area = area\n",
    "            area_of_interest = (x, y, w, h)\n",
    "\n",
    "    x, y, w, h = area_of_interest\n",
    "\n",
    "    image = cv2.rectangle(input_im, (x, y), (x+w, y+h), (0, 0, 255), 2)\n",
    "\n",
    "    roi = input_im[y:y+h, x:x+w]\n",
    "    return roi, y, h, x, w"
   ]
  },
  {
   "cell_type": "code",
   "execution_count": 4,
   "id": "f8da6203-b1c2-4dbf-9a99-6724cbae39bc",
   "metadata": {},
   "outputs": [],
   "source": [
    "def f1(y_true, y_pred):\n",
    "    def recall_m(y_true, y_pred):\n",
    "        TP = K.sum(K.round(K.clip(y_true * y_pred, 0, 1)))\n",
    "        Positives = K.sum(K.round(K.clip(y_true, 0, 1)))\n",
    "        recall = TP / (Positives+K.epsilon())\n",
    "        return recall\n",
    "    \n",
    "    def precision_m(y_true, y_pred):\n",
    "        TP = K.sum(K.round(K.clip(y_true * y_pred, 0, 1)))\n",
    "        Pred_Positives = K.sum(K.round(K.clip(y_pred, 0, 1)))\n",
    "        precision = TP / (Pred_Positives+K.epsilon())\n",
    "        return precision\n",
    "    \n",
    "    precision, recall = precision_m(y_true, y_pred), recall_m(y_true, y_pred)\n",
    "    \n",
    "    return 2*((precision*recall)/(precision+recall+K.epsilon()))\n",
    "\n",
    "def iou(y_true, y_pred):\n",
    "    def f(y_true, y_pred):\n",
    "        y_pred = tf.cast(y_pred>0.5, y_pred.dtype)\n",
    "        intersection = K.sum(K.abs(y_true * y_pred), axis=[1,2,3])\n",
    "        total = K.sum(K.square(y_true),[1,2,3]) + K.sum(K.square(y_pred),[1,2,3])\n",
    "        union = total - intersection\n",
    "        return (intersection + K.epsilon()) / (union + K.epsilon())\n",
    "    return K.mean(f(y_true, y_pred), axis=-1)"
   ]
  },
  {
   "cell_type": "code",
   "execution_count": 5,
   "id": "8b0afe9a-0713-4deb-a46b-dcfd8b78c654",
   "metadata": {},
   "outputs": [],
   "source": [
    "def padder(image, patch_size):\n",
    "\n",
    "    h = image.shape[0]\n",
    "    w = image.shape[1]\n",
    "    height_padding = ((h // patch_size) + 1) * patch_size - h\n",
    "    width_padding = ((w // patch_size) + 1) * patch_size - w\n",
    "\n",
    "    top_padding = int(height_padding/2)\n",
    "    bottom_padding = height_padding - top_padding\n",
    "\n",
    "    left_padding = int(width_padding/2)\n",
    "    right_padding = width_padding - left_padding\n",
    "\n",
    "    padded_image = cv2.copyMakeBorder(image, top_padding, bottom_padding, left_padding, right_padding, cv2.BORDER_CONSTANT, value=[0, 0, 0])\n",
    "\n",
    "    return padded_image"
   ]
  },
  {
   "cell_type": "code",
   "execution_count": 6,
   "id": "e7cc8a26-bd3d-4079-86d6-f3e6736bfdb2",
   "metadata": {},
   "outputs": [],
   "source": [
    "def predict_all(images, patch_size):\n",
    "\n",
    "    predictions = []\n",
    "\n",
    "    for image in images:\n",
    "    \n",
    "        image, _, _, _, _ = roi_image(image)\n",
    "        image = padder(image, patch_size)\n",
    "        \n",
    "        patches = patchify(image, (patch_size, patch_size), step=patch_size)\n",
    "        \n",
    "        i = patches.shape[0]\n",
    "        j = patches.shape[1]\n",
    "        \n",
    "        patches = patches.reshape(-1, patch_size, patch_size, 1)\n",
    "        \n",
    "        preds = model.predict(patches/255)\n",
    "        \n",
    "        preds_reshaped = preds.reshape(i, j, patch_size, patch_size)\n",
    "        \n",
    "        predicted_mask = unpatchify(preds_reshaped, (i*patch_size, j*patch_size))\n",
    "\n",
    "        predictions.append(predicted_mask)\n",
    "\n",
    "    return predictions"
   ]
  },
  {
   "cell_type": "code",
   "execution_count": 7,
   "id": "a80ae100-7eef-4377-822f-ad4cc7d6a515",
   "metadata": {},
   "outputs": [],
   "source": [
    "def highlight_top_objects(image, prediction, num_objects=5):\n",
    "    def sort_objects_by_area(stats):\n",
    "        areas = [stat[-1] for stat in stats[1:]]\n",
    "        sorted_areas = sorted(enumerate(areas, start=1), key=lambda x: x[1], reverse=True)\n",
    "        return sorted_areas\n",
    "\n",
    "    def extract_and_highlight_objects(image, prediction, sorted_areas, num_objects):\n",
    "        plants = []\n",
    "        plants_pred = []\n",
    "\n",
    "        for i in range(1, num_objects + 1):\n",
    "            index, area = sorted_areas[i - 1]\n",
    "            x, y, w, h, _ = stats[index]\n",
    "\n",
    "            cropped_roi_pred = prediction[y:y + h, x:x + w]\n",
    "            cropped_roi = image[y:y + h, x:x + w]\n",
    "\n",
    "            plants.append(cropped_roi)\n",
    "            plants_pred.append(cropped_roi_pred)\n",
    "\n",
    "            image = cv2.rectangle(image, (x, y), (x + w, y + h), (0, 0, 255), 2)\n",
    "            prediction = cv2.rectangle(prediction, (x, y), (x + w, y + h), (0, 0, 255), 2)\n",
    "\n",
    "        return image, prediction, plants, plants_pred\n",
    "\n",
    "    pred = cv2.convertScaleAbs(prediction)\n",
    "\n",
    "    _, _, stats, _ = cv2.connectedComponentsWithStats(pred)\n",
    "\n",
    "    sorted_areas = sort_objects_by_area(stats)\n",
    "\n",
    "    num_objects = min(num_objects, len(stats) - 1)\n",
    "\n",
    "    result_image, result_pred, highlighted_plants, highlighted_plants_pred = extract_and_highlight_objects(\n",
    "        image, prediction, sorted_areas, num_objects\n",
    "    )\n",
    "\n",
    "    return result_image, result_pred, highlighted_plants, highlighted_plants_pred"
   ]
  },
  {
   "cell_type": "code",
   "execution_count": 8,
   "id": "813d8195-a8ab-4254-b5cf-18dbc30fee44",
   "metadata": {},
   "outputs": [],
   "source": [
    "def find_end_node(graph):\n",
    " \n",
    "    src = list(graph['node-id-src'])\n",
    "    end_nodes = []\n",
    "    for destination in list(graph['node-id-dst']):\n",
    "        if destination not in src:\n",
    "            end_nodes.append(destination)\n",
    "    return end_nodes"
   ]
  },
  {
   "cell_type": "code",
   "execution_count": 9,
   "id": "c548a593-c595-4e6d-8399-80fffad8a4c7",
   "metadata": {},
   "outputs": [],
   "source": [
    "def get_nodes(object):\n",
    "\n",
    "    skeleton = skeletonize(object>0.3)\n",
    "    summary = summarize(Skeleton(skeleton))\n",
    "    end_nodes = find_end_node(summary)\n",
    "    # summary = summary[(summary['node-id-dst'].isin(end_nodes)) | (summary['node-id-src'] == 0)]\n",
    "    # summary = summary[summary['skeleton-id'] == 0]\n",
    "\n",
    "    return summary"
   ]
  },
  {
   "cell_type": "code",
   "execution_count": 10,
   "id": "9295c1e1-ea61-4884-ad54-4d9ec19e9df8",
   "metadata": {},
   "outputs": [
    {
     "name": "stderr",
     "output_type": "stream",
     "text": [
      "2024-01-17 20:34:41.922214: E external/local_xla/xla/stream_executor/cuda/cuda_driver.cc:274] failed call to cuInit: CUDA_ERROR_NO_DEVICE: no CUDA-capable device is detected\n"
     ]
    }
   ],
   "source": [
    "model = load_model('root_model.h5', custom_objects={'f1':f1, 'iou':iou})"
   ]
  },
  {
   "cell_type": "code",
   "execution_count": 11,
   "id": "c6b8c623-b0ea-4bb5-96fb-357dc2c42694",
   "metadata": {},
   "outputs": [],
   "source": [
    "images = load_images('task_6_images', '.tif')"
   ]
  },
  {
   "cell_type": "code",
   "execution_count": 12,
   "id": "fe92eb3f-4ef8-4705-acd1-0fd503a2686d",
   "metadata": {},
   "outputs": [],
   "source": [
    "patch_size = 256"
   ]
  },
  {
   "cell_type": "code",
   "execution_count": 13,
   "id": "bb09dbc7-2e18-405a-8847-1349eff1d3d7",
   "metadata": {},
   "outputs": [],
   "source": [
    "roi_images = []\n",
    "\n",
    "for image in images:\n",
    "    new_im, _, _, _, _ = roi_image(image)\n",
    "    new_im = padder(new_im, patch_size)\n",
    "    roi_images.append(new_im)"
   ]
  },
  {
   "cell_type": "code",
   "execution_count": 14,
   "id": "ebca550b-e421-47bc-a18b-2c38a42ce1de",
   "metadata": {},
   "outputs": [
    {
     "name": "stdout",
     "output_type": "stream",
     "text": [
      "4/4 [==============================] - 2s 429ms/step\n",
      "4/4 [==============================] - 2s 435ms/step\n",
      "4/4 [==============================] - 2s 418ms/step\n"
     ]
    }
   ],
   "source": [
    "predictions = predict_all(roi_images, patch_size)"
   ]
  },
  {
   "cell_type": "code",
   "execution_count": 1,
   "id": "a4a381eb-ab1f-4216-8bc8-c3234cdfd85a",
   "metadata": {},
   "outputs": [
    {
     "ename": "NameError",
     "evalue": "name 'roi_images' is not defined",
     "output_type": "error",
     "traceback": [
      "\u001b[0;31m---------------------------------------------------------------------------\u001b[0m",
      "\u001b[0;31mNameError\u001b[0m                                 Traceback (most recent call last)",
      "Cell \u001b[0;32mIn[1], line 2\u001b[0m\n\u001b[1;32m      1\u001b[0m index \u001b[38;5;241m=\u001b[39m \u001b[38;5;241m2\u001b[39m\n\u001b[0;32m----> 2\u001b[0m test_image \u001b[38;5;241m=\u001b[39m \u001b[43mroi_images\u001b[49m[index]\n\u001b[1;32m      3\u001b[0m test_pred \u001b[38;5;241m=\u001b[39m predictions[index]\n",
      "\u001b[0;31mNameError\u001b[0m: name 'roi_images' is not defined"
     ]
    }
   ],
   "source": [
    "index = 2\n",
    "test_image = roi_images[index]\n",
    "test_pred = predictions[index]"
   ]
  },
  {
   "cell_type": "code",
   "execution_count": null,
   "id": "cbc35d4a-127e-4640-8b3b-5c057619fbf5",
   "metadata": {},
   "outputs": [],
   "source": [
    "test_image, test_pred, plants, plants_pred = highlight_top_objects(test_image, test_pred)"
   ]
  },
  {
   "cell_type": "code",
   "execution_count": 17,
   "id": "576ca663-1a40-484b-b2b7-003b16dcf0e8",
   "metadata": {},
   "outputs": [
    {
     "data": {
      "text/plain": [
       "<matplotlib.image.AxesImage at 0x7efca03a23d0>"
      ]
     },
     "execution_count": 17,
     "metadata": {},
     "output_type": "execute_result"
    },
    {
     "data": {
      "image/png": "[encoded data removed]",
      "text/plain": [
       "<Figure size 640x480 with 1 Axes>"
      ]
     },
     "metadata": {},
     "output_type": "display_data"
    }
   ],
   "source": [
    "plt.imshow(plants_pred[0], cmap='gray')"
   ]
  },
  {
   "cell_type": "code",
   "execution_count": 18,
   "id": "cd3fa6dd-2f74-486c-b272-930ccfd2bc03",
   "metadata": {},
   "outputs": [
    {
     "name": "stdout",
     "output_type": "stream",
     "text": [
      "[0, 173, 345, 532, 697, 1034, 1165]\n",
      "[19, 38, 92, 121, 177, 395, 649, 834, 1113, 1567]\n",
      "[2, 21, 100, 187, 386, 560, 992, 1310]\n",
      "[0, 26, 122, 245, 337, 1134]\n",
      "[0, 59, 131, 985]\n"
     ]
    }
   ],
   "source": [
    "data = []\n",
    "checker = []\n",
    "\n",
    "# Assuming get_nodes function is defined somewhere\n",
    "\n",
    "for idx, plant_pred in enumerate(plants_pred):\n",
    "    nodes = get_nodes(plant_pred)\n",
    "    checker.append(nodes)\n",
    "    G = nx.from_pandas_edgelist(nodes, source='node-id-src', target='node-id-dst', edge_attr='branch-distance')\n",
    "    all_nodes = list(G.nodes())\n",
    "    first_node = all_nodes[0]\n",
    "    last_node = all_nodes[-1]\n",
    "    path = nx.dijkstra_path(G, first_node, last_node, weight='branch-distance')\n",
    "    print(path)\n",
    "    primary_root = nx.dijkstra_path_length(G, first_node, last_node, weight='branch-distance')\n",
    "    \n",
    "    # Append the result to the list\n",
    "    data.append({'Name': f'plant_{idx + 1}', 'Primary_Root': primary_root})\n",
    "\n",
    "# Create DataFrame from the list\n",
    "result_df = pd.concat([pd.DataFrame(data[i:i+1]) for i in range(len(data))], ignore_index=True)"
   ]
  },
  {
   "cell_type": "code",
   "execution_count": 19,
   "id": "00ab1072-a692-47c9-806e-9c8dfb46b850",
   "metadata": {},
   "outputs": [
    {
     "data": {
      "text/html": [
       "<div>\n",
       "<style scoped>\n",
       "    .dataframe tbody tr th:only-of-type {\n",
       "        vertical-align: middle;\n",
       "    }\n",
       "\n",
       "    .dataframe tbody tr th {\n",
       "        vertical-align: top;\n",
       "    }\n",
       "\n",
       "    .dataframe thead th {\n",
       "        text-align: right;\n",
       "    }\n",
       "</style>\n",
       "<table border=\"1\" class=\"dataframe\">\n",
       "  <thead>\n",
       "    <tr style=\"text-align: right;\">\n",
       "      <th></th>\n",
       "      <th>Name</th>\n",
       "      <th>Primary_Root</th>\n",
       "    </tr>\n",
       "  </thead>\n",
       "  <tbody>\n",
       "    <tr>\n",
       "      <th>0</th>\n",
       "      <td>plant_1</td>\n",
       "      <td>410.592929</td>\n",
       "    </tr>\n",
       "    <tr>\n",
       "      <th>1</th>\n",
       "      <td>plant_2</td>\n",
       "      <td>1051.747258</td>\n",
       "    </tr>\n",
       "    <tr>\n",
       "      <th>2</th>\n",
       "      <td>plant_3</td>\n",
       "      <td>995.019336</td>\n",
       "    </tr>\n",
       "    <tr>\n",
       "      <th>3</th>\n",
       "      <td>plant_4</td>\n",
       "      <td>1064.575685</td>\n",
       "    </tr>\n",
       "    <tr>\n",
       "      <th>4</th>\n",
       "      <td>plant_5</td>\n",
       "      <td>943.592929</td>\n",
       "    </tr>\n",
       "  </tbody>\n",
       "</table>\n",
       "</div>"
      ],
      "text/plain": [
       "      Name  Primary_Root\n",
       "0  plant_1    410.592929\n",
       "1  plant_2   1051.747258\n",
       "2  plant_3    995.019336\n",
       "3  plant_4   1064.575685\n",
       "4  plant_5    943.592929"
      ]
     },
     "execution_count": 19,
     "metadata": {},
     "output_type": "execute_result"
    }
   ],
   "source": [
    "result_df"
   ]
  },
  {
   "cell_type": "code",
   "execution_count": null,
   "id": "f09131b9-d362-4ae7-bd7c-daa450a470dd",
   "metadata": {},
   "outputs": [],
   "source": []
  }
 ],
 "metadata": {
  "kernelspec": {
   "display_name": "Python 3 (ipykernel)",
   "language": "python",
   "name": "python3"
  },
  "language_info": {
   "codemirror_mode": {
    "name": "ipython",
    "version": 3
   },
   "file_extension": ".py",
   "mimetype": "text/x-python",
   "name": "python",
   "nbconvert_exporter": "python",
   "pygments_lexer": "ipython3",
   "version": "3.11.0rc1"
  }
 },
 "nbformat": 4,
 "nbformat_minor": 5
}
