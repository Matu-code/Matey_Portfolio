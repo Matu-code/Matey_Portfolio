{
 "cells": [
  {
   "cell_type": "code",
   "execution_count": 1,
   "metadata": {},
   "outputs": [],
   "source": [
    "import pandas as pd"
   ]
  },
  {
   "cell_type": "code",
   "execution_count": 2,
   "metadata": {},
   "outputs": [],
   "source": [
    "smileannotation = pd.read_csv(\"data/smileannotationsfinal.csv\", header=None)\n",
    "dataset = pd.read_pickle(\"data/merged_training.pkl\")\n",
    "goemotions_1 = pd.read_csv('data/goemotions_1.csv')\n",
    "goemotions_2 = pd.read_csv('data/goemotions_2.csv')\n",
    "goemotions_3 = pd.read_csv('data/goemotions_3.csv')"
   ]
  },
  {
   "cell_type": "code",
   "execution_count": 3,
   "metadata": {},
   "outputs": [],
   "source": [
    "emotions_mapping = {'embarrassment': 'happiness',\n",
    "                 'confusion': 'disgust',\n",
    "                 'disappointment': 'sadness',\n",
    "                 'excitement': 'happiness',\n",
    "                 'grief': 'sadness',\n",
    "                 'joy': 'happiness',\n",
    "                 'love': 'happiness',\n",
    "                 'nervousness': 'fear',\n",
    "                 'pride': 'happiness',\n",
    "                 'realization': 'surprise',\n",
    "                 'happy': 'happiness',\n",
    "                 'angry': 'anger',\n",
    "                 'sad': 'sadness',\n",
    "                 'amusement': 'happiness',\n",
    "                 'annoyance': 'anger'}"
   ]
  },
  {
   "cell_type": "code",
   "execution_count": 4,
   "metadata": {},
   "outputs": [],
   "source": [
    "smileannotation.columns = ['Id', 'Sentences', 'Emotions']"
   ]
  },
  {
   "cell_type": "code",
   "execution_count": 5,
   "metadata": {},
   "outputs": [
    {
     "data": {
      "text/plain": [
       "0       False\n",
       "1       False\n",
       "2       False\n",
       "3       False\n",
       "4       False\n",
       "        ...  \n",
       "3080    False\n",
       "3081    False\n",
       "3082    False\n",
       "3083     True\n",
       "3084    False\n",
       "Name: Sentences, Length: 3085, dtype: bool"
      ]
     },
     "execution_count": 5,
     "metadata": {},
     "output_type": "execute_result"
    }
   ],
   "source": [
    "smileannotation['Sentences'].duplicated()"
   ]
  },
  {
   "cell_type": "code",
   "execution_count": 6,
   "metadata": {},
   "outputs": [],
   "source": [
    "smileannotation = smileannotation.drop_duplicates(subset='Sentences', keep='first')"
   ]
  },
  {
   "cell_type": "code",
   "execution_count": 7,
   "metadata": {},
   "outputs": [
    {
     "data": {
      "text/html": [
       "<div>\n",
       "<style scoped>\n",
       "    .dataframe tbody tr th:only-of-type {\n",
       "        vertical-align: middle;\n",
       "    }\n",
       "\n",
       "    .dataframe tbody tr th {\n",
       "        vertical-align: top;\n",
       "    }\n",
       "\n",
       "    .dataframe thead th {\n",
       "        text-align: right;\n",
       "    }\n",
       "</style>\n",
       "<table border=\"1\" class=\"dataframe\">\n",
       "  <thead>\n",
       "    <tr style=\"text-align: right;\">\n",
       "      <th></th>\n",
       "      <th>Id</th>\n",
       "      <th>Sentences</th>\n",
       "      <th>Emotions</th>\n",
       "    </tr>\n",
       "  </thead>\n",
       "  <tbody>\n",
       "  </tbody>\n",
       "</table>\n",
       "</div>"
      ],
      "text/plain": [
       "Empty DataFrame\n",
       "Columns: [Id, Sentences, Emotions]\n",
       "Index: []"
      ]
     },
     "execution_count": 7,
     "metadata": {},
     "output_type": "execute_result"
    }
   ],
   "source": [
    "smileannotation[smileannotation.duplicated(subset=['Sentences'], keep=False)]"
   ]
  },
  {
   "cell_type": "code",
   "execution_count": 8,
   "metadata": {},
   "outputs": [],
   "source": [
    "smileannotation = smileannotation.drop('Id', axis=1)"
   ]
  },
  {
   "cell_type": "code",
   "execution_count": 9,
   "metadata": {},
   "outputs": [
    {
     "data": {
      "text/plain": [
       "Index(['Sentences', 'Emotions'], dtype='object')"
      ]
     },
     "execution_count": 9,
     "metadata": {},
     "output_type": "execute_result"
    }
   ],
   "source": [
    "smileannotation.columns"
   ]
  },
  {
   "cell_type": "code",
   "execution_count": 10,
   "metadata": {},
   "outputs": [
    {
     "data": {
      "text/plain": [
       "array(['nocode', 'happy', 'not-relevant', 'angry', 'disgust|angry',\n",
       "       'disgust', 'happy|surprise', 'sad', 'surprise', 'happy|sad',\n",
       "       'sad|disgust', 'sad|angry', 'sad|disgust|angry'], dtype=object)"
      ]
     },
     "execution_count": 10,
     "metadata": {},
     "output_type": "execute_result"
    }
   ],
   "source": [
    "smileannotation['Emotions'].unique()"
   ]
  },
  {
   "cell_type": "code",
   "execution_count": 11,
   "metadata": {},
   "outputs": [
    {
     "data": {
      "text/html": [
       "<div>\n",
       "<style scoped>\n",
       "    .dataframe tbody tr th:only-of-type {\n",
       "        vertical-align: middle;\n",
       "    }\n",
       "\n",
       "    .dataframe tbody tr th {\n",
       "        vertical-align: top;\n",
       "    }\n",
       "\n",
       "    .dataframe thead th {\n",
       "        text-align: right;\n",
       "    }\n",
       "</style>\n",
       "<table border=\"1\" class=\"dataframe\">\n",
       "  <thead>\n",
       "    <tr style=\"text-align: right;\">\n",
       "      <th></th>\n",
       "      <th>Sentences</th>\n",
       "      <th>Emotions</th>\n",
       "    </tr>\n",
       "  </thead>\n",
       "  <tbody>\n",
       "    <tr>\n",
       "      <th>0</th>\n",
       "      <td>@aandraous @britishmuseum @AndrewsAntonio Merc...</td>\n",
       "      <td>nocode</td>\n",
       "    </tr>\n",
       "    <tr>\n",
       "      <th>1</th>\n",
       "      <td>Dorian Gray with Rainbow Scarf #LoveWins (from...</td>\n",
       "      <td>happy</td>\n",
       "    </tr>\n",
       "    <tr>\n",
       "      <th>2</th>\n",
       "      <td>@SelectShowcase @Tate_StIves ... Replace with ...</td>\n",
       "      <td>happy</td>\n",
       "    </tr>\n",
       "    <tr>\n",
       "      <th>3</th>\n",
       "      <td>@Sofabsports thank you for following me back. ...</td>\n",
       "      <td>happy</td>\n",
       "    </tr>\n",
       "    <tr>\n",
       "      <th>4</th>\n",
       "      <td>@britishmuseum @TudorHistory What a beautiful ...</td>\n",
       "      <td>happy</td>\n",
       "    </tr>\n",
       "    <tr>\n",
       "      <th>...</th>\n",
       "      <td>...</td>\n",
       "      <td>...</td>\n",
       "    </tr>\n",
       "    <tr>\n",
       "      <th>3079</th>\n",
       "      <td>“@britishmuseum: Thanks for ranking us #1 in @...</td>\n",
       "      <td>happy</td>\n",
       "    </tr>\n",
       "    <tr>\n",
       "      <th>3080</th>\n",
       "      <td>MT @AliHaggett: Looking forward to our public ...</td>\n",
       "      <td>happy</td>\n",
       "    </tr>\n",
       "    <tr>\n",
       "      <th>3081</th>\n",
       "      <td>@britishmuseum Upper arm guard?</td>\n",
       "      <td>nocode</td>\n",
       "    </tr>\n",
       "    <tr>\n",
       "      <th>3082</th>\n",
       "      <td>@MrStuchbery @britishmuseum Mesmerising.</td>\n",
       "      <td>happy</td>\n",
       "    </tr>\n",
       "    <tr>\n",
       "      <th>3084</th>\n",
       "      <td>@britishmuseum Experience #battlewaterloo from...</td>\n",
       "      <td>nocode</td>\n",
       "    </tr>\n",
       "  </tbody>\n",
       "</table>\n",
       "<p>3043 rows × 2 columns</p>\n",
       "</div>"
      ],
      "text/plain": [
       "                                              Sentences Emotions\n",
       "0     @aandraous @britishmuseum @AndrewsAntonio Merc...   nocode\n",
       "1     Dorian Gray with Rainbow Scarf #LoveWins (from...    happy\n",
       "2     @SelectShowcase @Tate_StIves ... Replace with ...    happy\n",
       "3     @Sofabsports thank you for following me back. ...    happy\n",
       "4     @britishmuseum @TudorHistory What a beautiful ...    happy\n",
       "...                                                 ...      ...\n",
       "3079  “@britishmuseum: Thanks for ranking us #1 in @...    happy\n",
       "3080  MT @AliHaggett: Looking forward to our public ...    happy\n",
       "3081                    @britishmuseum Upper arm guard?   nocode\n",
       "3082           @MrStuchbery @britishmuseum Mesmerising.    happy\n",
       "3084  @britishmuseum Experience #battlewaterloo from...   nocode\n",
       "\n",
       "[3043 rows x 2 columns]"
      ]
     },
     "execution_count": 11,
     "metadata": {},
     "output_type": "execute_result"
    }
   ],
   "source": [
    "smileannotation"
   ]
  },
  {
   "cell_type": "code",
   "execution_count": 12,
   "metadata": {},
   "outputs": [],
   "source": [
    "remove_emotions = ['nocode', 'not-relevant', 'disgust|angry', 'happy|surprise', 'happy|sad', 'sad|disgust', 'sad|angry', 'sad|disgust|angry']\n",
    "\n",
    "for emotion in remove_emotions:\n",
    "\n",
    "    smileannotation = smileannotation[smileannotation['Emotions'] != emotion]"
   ]
  },
  {
   "cell_type": "code",
   "execution_count": 13,
   "metadata": {},
   "outputs": [],
   "source": [
    "smileannotation = smileannotation.replace(emotions_mapping)"
   ]
  },
  {
   "cell_type": "code",
   "execution_count": 14,
   "metadata": {},
   "outputs": [
    {
     "data": {
      "text/plain": [
       "array(['sadness', 'joy', 'love', 'anger', 'fear', 'surprise'],\n",
       "      dtype=object)"
      ]
     },
     "execution_count": 14,
     "metadata": {},
     "output_type": "execute_result"
    }
   ],
   "source": [
    "dataset['emotions'].unique()"
   ]
  },
  {
   "cell_type": "code",
   "execution_count": 15,
   "metadata": {},
   "outputs": [
    {
     "data": {
      "text/plain": [
       "Index(['text', 'emotions'], dtype='object')"
      ]
     },
     "execution_count": 15,
     "metadata": {},
     "output_type": "execute_result"
    }
   ],
   "source": [
    "dataset.columns"
   ]
  },
  {
   "cell_type": "code",
   "execution_count": 16,
   "metadata": {},
   "outputs": [
    {
     "data": {
      "text/plain": [
       "array(['sadness', 'happiness', 'anger', 'fear', 'surprise'], dtype=object)"
      ]
     },
     "execution_count": 16,
     "metadata": {},
     "output_type": "execute_result"
    }
   ],
   "source": [
    "dataset['emotions'] = dataset['emotions'].replace(emotions_mapping)\n",
    "\n",
    "dataset = dataset.rename(columns={'text':'Sentences', 'emotions':'Emotions'})\n",
    "\n",
    "dataset['Emotions'].unique()"
   ]
  },
  {
   "cell_type": "code",
   "execution_count": 17,
   "metadata": {},
   "outputs": [
    {
     "data": {
      "text/plain": [
       "Index(['text', 'id', 'author', 'subreddit', 'link_id', 'parent_id',\n",
       "       'created_utc', 'rater_id', 'example_very_unclear', 'admiration',\n",
       "       'amusement', 'anger', 'annoyance', 'approval', 'caring', 'confusion',\n",
       "       'curiosity', 'desire', 'disappointment', 'disapproval', 'disgust',\n",
       "       'embarrassment', 'excitement', 'fear', 'gratitude', 'grief', 'joy',\n",
       "       'love', 'nervousness', 'optimism', 'pride', 'realization', 'relief',\n",
       "       'remorse', 'sadness', 'surprise', 'neutral'],\n",
       "      dtype='object')"
      ]
     },
     "execution_count": 17,
     "metadata": {},
     "output_type": "execute_result"
    }
   ],
   "source": [
    "goemotions_1.columns"
   ]
  },
  {
   "cell_type": "code",
   "execution_count": 18,
   "metadata": {},
   "outputs": [
    {
     "data": {
      "text/html": [
       "<div>\n",
       "<style scoped>\n",
       "    .dataframe tbody tr th:only-of-type {\n",
       "        vertical-align: middle;\n",
       "    }\n",
       "\n",
       "    .dataframe tbody tr th {\n",
       "        vertical-align: top;\n",
       "    }\n",
       "\n",
       "    .dataframe thead th {\n",
       "        text-align: right;\n",
       "    }\n",
       "</style>\n",
       "<table border=\"1\" class=\"dataframe\">\n",
       "  <thead>\n",
       "    <tr style=\"text-align: right;\">\n",
       "      <th></th>\n",
       "      <th>text</th>\n",
       "      <th>id</th>\n",
       "      <th>author</th>\n",
       "      <th>subreddit</th>\n",
       "      <th>link_id</th>\n",
       "      <th>parent_id</th>\n",
       "      <th>created_utc</th>\n",
       "      <th>rater_id</th>\n",
       "      <th>example_very_unclear</th>\n",
       "      <th>admiration</th>\n",
       "      <th>...</th>\n",
       "      <th>love</th>\n",
       "      <th>nervousness</th>\n",
       "      <th>optimism</th>\n",
       "      <th>pride</th>\n",
       "      <th>realization</th>\n",
       "      <th>relief</th>\n",
       "      <th>remorse</th>\n",
       "      <th>sadness</th>\n",
       "      <th>surprise</th>\n",
       "      <th>neutral</th>\n",
       "    </tr>\n",
       "  </thead>\n",
       "  <tbody>\n",
       "    <tr>\n",
       "      <th>0</th>\n",
       "      <td>That game hurt.</td>\n",
       "      <td>eew5j0j</td>\n",
       "      <td>Brdd9</td>\n",
       "      <td>nrl</td>\n",
       "      <td>t3_ajis4z</td>\n",
       "      <td>t1_eew18eq</td>\n",
       "      <td>1.548381e+09</td>\n",
       "      <td>1</td>\n",
       "      <td>False</td>\n",
       "      <td>0</td>\n",
       "      <td>...</td>\n",
       "      <td>0</td>\n",
       "      <td>0</td>\n",
       "      <td>0</td>\n",
       "      <td>0</td>\n",
       "      <td>0</td>\n",
       "      <td>0</td>\n",
       "      <td>0</td>\n",
       "      <td>1</td>\n",
       "      <td>0</td>\n",
       "      <td>0</td>\n",
       "    </tr>\n",
       "    <tr>\n",
       "      <th>1</th>\n",
       "      <td>&gt;sexuality shouldn’t be a grouping category I...</td>\n",
       "      <td>eemcysk</td>\n",
       "      <td>TheGreen888</td>\n",
       "      <td>unpopularopinion</td>\n",
       "      <td>t3_ai4q37</td>\n",
       "      <td>t3_ai4q37</td>\n",
       "      <td>1.548084e+09</td>\n",
       "      <td>37</td>\n",
       "      <td>True</td>\n",
       "      <td>0</td>\n",
       "      <td>...</td>\n",
       "      <td>0</td>\n",
       "      <td>0</td>\n",
       "      <td>0</td>\n",
       "      <td>0</td>\n",
       "      <td>0</td>\n",
       "      <td>0</td>\n",
       "      <td>0</td>\n",
       "      <td>0</td>\n",
       "      <td>0</td>\n",
       "      <td>0</td>\n",
       "    </tr>\n",
       "    <tr>\n",
       "      <th>2</th>\n",
       "      <td>You do right, if you don't care then fuck 'em!</td>\n",
       "      <td>ed2mah1</td>\n",
       "      <td>Labalool</td>\n",
       "      <td>confessions</td>\n",
       "      <td>t3_abru74</td>\n",
       "      <td>t1_ed2m7g7</td>\n",
       "      <td>1.546428e+09</td>\n",
       "      <td>37</td>\n",
       "      <td>False</td>\n",
       "      <td>0</td>\n",
       "      <td>...</td>\n",
       "      <td>0</td>\n",
       "      <td>0</td>\n",
       "      <td>0</td>\n",
       "      <td>0</td>\n",
       "      <td>0</td>\n",
       "      <td>0</td>\n",
       "      <td>0</td>\n",
       "      <td>0</td>\n",
       "      <td>0</td>\n",
       "      <td>1</td>\n",
       "    </tr>\n",
       "    <tr>\n",
       "      <th>3</th>\n",
       "      <td>Man I love reddit.</td>\n",
       "      <td>eeibobj</td>\n",
       "      <td>MrsRobertshaw</td>\n",
       "      <td>facepalm</td>\n",
       "      <td>t3_ahulml</td>\n",
       "      <td>t3_ahulml</td>\n",
       "      <td>1.547965e+09</td>\n",
       "      <td>18</td>\n",
       "      <td>False</td>\n",
       "      <td>0</td>\n",
       "      <td>...</td>\n",
       "      <td>1</td>\n",
       "      <td>0</td>\n",
       "      <td>0</td>\n",
       "      <td>0</td>\n",
       "      <td>0</td>\n",
       "      <td>0</td>\n",
       "      <td>0</td>\n",
       "      <td>0</td>\n",
       "      <td>0</td>\n",
       "      <td>0</td>\n",
       "    </tr>\n",
       "    <tr>\n",
       "      <th>4</th>\n",
       "      <td>[NAME] was nowhere near them, he was by the Fa...</td>\n",
       "      <td>eda6yn6</td>\n",
       "      <td>American_Fascist713</td>\n",
       "      <td>starwarsspeculation</td>\n",
       "      <td>t3_ackt2f</td>\n",
       "      <td>t1_eda65q2</td>\n",
       "      <td>1.546669e+09</td>\n",
       "      <td>2</td>\n",
       "      <td>False</td>\n",
       "      <td>0</td>\n",
       "      <td>...</td>\n",
       "      <td>0</td>\n",
       "      <td>0</td>\n",
       "      <td>0</td>\n",
       "      <td>0</td>\n",
       "      <td>0</td>\n",
       "      <td>0</td>\n",
       "      <td>0</td>\n",
       "      <td>0</td>\n",
       "      <td>0</td>\n",
       "      <td>1</td>\n",
       "    </tr>\n",
       "    <tr>\n",
       "      <th>...</th>\n",
       "      <td>...</td>\n",
       "      <td>...</td>\n",
       "      <td>...</td>\n",
       "      <td>...</td>\n",
       "      <td>...</td>\n",
       "      <td>...</td>\n",
       "      <td>...</td>\n",
       "      <td>...</td>\n",
       "      <td>...</td>\n",
       "      <td>...</td>\n",
       "      <td>...</td>\n",
       "      <td>...</td>\n",
       "      <td>...</td>\n",
       "      <td>...</td>\n",
       "      <td>...</td>\n",
       "      <td>...</td>\n",
       "      <td>...</td>\n",
       "      <td>...</td>\n",
       "      <td>...</td>\n",
       "      <td>...</td>\n",
       "      <td>...</td>\n",
       "    </tr>\n",
       "    <tr>\n",
       "      <th>69995</th>\n",
       "      <td>It's about fucking time, hope this is real.</td>\n",
       "      <td>eeuoyeh</td>\n",
       "      <td>DudeImMacGyver</td>\n",
       "      <td>worldnews</td>\n",
       "      <td>t3_ajcbgq</td>\n",
       "      <td>t3_ajcbgq</td>\n",
       "      <td>1.548346e+09</td>\n",
       "      <td>19</td>\n",
       "      <td>False</td>\n",
       "      <td>0</td>\n",
       "      <td>...</td>\n",
       "      <td>0</td>\n",
       "      <td>0</td>\n",
       "      <td>0</td>\n",
       "      <td>0</td>\n",
       "      <td>0</td>\n",
       "      <td>0</td>\n",
       "      <td>0</td>\n",
       "      <td>0</td>\n",
       "      <td>0</td>\n",
       "      <td>0</td>\n",
       "    </tr>\n",
       "    <tr>\n",
       "      <th>69996</th>\n",
       "      <td>This is great! Can anyone make a request with ...</td>\n",
       "      <td>eer0igi</td>\n",
       "      <td>Dirkus777</td>\n",
       "      <td>gay</td>\n",
       "      <td>t3_aiqhx1</td>\n",
       "      <td>t3_aiqhx1</td>\n",
       "      <td>1.548223e+09</td>\n",
       "      <td>55</td>\n",
       "      <td>False</td>\n",
       "      <td>1</td>\n",
       "      <td>...</td>\n",
       "      <td>0</td>\n",
       "      <td>0</td>\n",
       "      <td>0</td>\n",
       "      <td>0</td>\n",
       "      <td>0</td>\n",
       "      <td>0</td>\n",
       "      <td>0</td>\n",
       "      <td>0</td>\n",
       "      <td>0</td>\n",
       "      <td>0</td>\n",
       "    </tr>\n",
       "    <tr>\n",
       "      <th>69997</th>\n",
       "      <td>I’m sorry. Can you please explain what are the...</td>\n",
       "      <td>eebxspf</td>\n",
       "      <td>menjav</td>\n",
       "      <td>DebateAnAtheist</td>\n",
       "      <td>t3_ah451r</td>\n",
       "      <td>t1_eeblb39</td>\n",
       "      <td>1.547787e+09</td>\n",
       "      <td>5</td>\n",
       "      <td>False</td>\n",
       "      <td>0</td>\n",
       "      <td>...</td>\n",
       "      <td>0</td>\n",
       "      <td>0</td>\n",
       "      <td>0</td>\n",
       "      <td>0</td>\n",
       "      <td>0</td>\n",
       "      <td>0</td>\n",
       "      <td>0</td>\n",
       "      <td>0</td>\n",
       "      <td>0</td>\n",
       "      <td>0</td>\n",
       "    </tr>\n",
       "    <tr>\n",
       "      <th>69998</th>\n",
       "      <td>No but it should be</td>\n",
       "      <td>edjf4v2</td>\n",
       "      <td>heputmystuffinjello</td>\n",
       "      <td>DunderMifflin</td>\n",
       "      <td>t3_adpkeq</td>\n",
       "      <td>t1_edjasoe</td>\n",
       "      <td>1.546922e+09</td>\n",
       "      <td>51</td>\n",
       "      <td>False</td>\n",
       "      <td>0</td>\n",
       "      <td>...</td>\n",
       "      <td>0</td>\n",
       "      <td>0</td>\n",
       "      <td>0</td>\n",
       "      <td>0</td>\n",
       "      <td>0</td>\n",
       "      <td>0</td>\n",
       "      <td>0</td>\n",
       "      <td>0</td>\n",
       "      <td>0</td>\n",
       "      <td>1</td>\n",
       "    </tr>\n",
       "    <tr>\n",
       "      <th>69999</th>\n",
       "      <td>This is so cruel. I literally feel physically ...</td>\n",
       "      <td>ee3dzap</td>\n",
       "      <td>ColeKXL9</td>\n",
       "      <td>antinatalism</td>\n",
       "      <td>t3_ag2259</td>\n",
       "      <td>t3_ag2259</td>\n",
       "      <td>1.547520e+09</td>\n",
       "      <td>4</td>\n",
       "      <td>False</td>\n",
       "      <td>0</td>\n",
       "      <td>...</td>\n",
       "      <td>0</td>\n",
       "      <td>0</td>\n",
       "      <td>0</td>\n",
       "      <td>0</td>\n",
       "      <td>0</td>\n",
       "      <td>0</td>\n",
       "      <td>0</td>\n",
       "      <td>1</td>\n",
       "      <td>0</td>\n",
       "      <td>0</td>\n",
       "    </tr>\n",
       "  </tbody>\n",
       "</table>\n",
       "<p>70000 rows × 37 columns</p>\n",
       "</div>"
      ],
      "text/plain": [
       "                                                    text       id  \\\n",
       "0                                        That game hurt.  eew5j0j   \n",
       "1       >sexuality shouldn’t be a grouping category I...  eemcysk   \n",
       "2         You do right, if you don't care then fuck 'em!  ed2mah1   \n",
       "3                                     Man I love reddit.  eeibobj   \n",
       "4      [NAME] was nowhere near them, he was by the Fa...  eda6yn6   \n",
       "...                                                  ...      ...   \n",
       "69995        It's about fucking time, hope this is real.  eeuoyeh   \n",
       "69996  This is great! Can anyone make a request with ...  eer0igi   \n",
       "69997  I’m sorry. Can you please explain what are the...  eebxspf   \n",
       "69998                                No but it should be  edjf4v2   \n",
       "69999  This is so cruel. I literally feel physically ...  ee3dzap   \n",
       "\n",
       "                    author            subreddit    link_id   parent_id  \\\n",
       "0                    Brdd9                  nrl  t3_ajis4z  t1_eew18eq   \n",
       "1              TheGreen888     unpopularopinion  t3_ai4q37   t3_ai4q37   \n",
       "2                 Labalool          confessions  t3_abru74  t1_ed2m7g7   \n",
       "3            MrsRobertshaw             facepalm  t3_ahulml   t3_ahulml   \n",
       "4      American_Fascist713  starwarsspeculation  t3_ackt2f  t1_eda65q2   \n",
       "...                    ...                  ...        ...         ...   \n",
       "69995       DudeImMacGyver            worldnews  t3_ajcbgq   t3_ajcbgq   \n",
       "69996            Dirkus777                  gay  t3_aiqhx1   t3_aiqhx1   \n",
       "69997               menjav      DebateAnAtheist  t3_ah451r  t1_eeblb39   \n",
       "69998  heputmystuffinjello        DunderMifflin  t3_adpkeq  t1_edjasoe   \n",
       "69999             ColeKXL9         antinatalism  t3_ag2259   t3_ag2259   \n",
       "\n",
       "        created_utc  rater_id  example_very_unclear  admiration  ...  love  \\\n",
       "0      1.548381e+09         1                 False           0  ...     0   \n",
       "1      1.548084e+09        37                  True           0  ...     0   \n",
       "2      1.546428e+09        37                 False           0  ...     0   \n",
       "3      1.547965e+09        18                 False           0  ...     1   \n",
       "4      1.546669e+09         2                 False           0  ...     0   \n",
       "...             ...       ...                   ...         ...  ...   ...   \n",
       "69995  1.548346e+09        19                 False           0  ...     0   \n",
       "69996  1.548223e+09        55                 False           1  ...     0   \n",
       "69997  1.547787e+09         5                 False           0  ...     0   \n",
       "69998  1.546922e+09        51                 False           0  ...     0   \n",
       "69999  1.547520e+09         4                 False           0  ...     0   \n",
       "\n",
       "       nervousness  optimism  pride  realization  relief  remorse  sadness  \\\n",
       "0                0         0      0            0       0        0        1   \n",
       "1                0         0      0            0       0        0        0   \n",
       "2                0         0      0            0       0        0        0   \n",
       "3                0         0      0            0       0        0        0   \n",
       "4                0         0      0            0       0        0        0   \n",
       "...            ...       ...    ...          ...     ...      ...      ...   \n",
       "69995            0         0      0            0       0        0        0   \n",
       "69996            0         0      0            0       0        0        0   \n",
       "69997            0         0      0            0       0        0        0   \n",
       "69998            0         0      0            0       0        0        0   \n",
       "69999            0         0      0            0       0        0        1   \n",
       "\n",
       "       surprise  neutral  \n",
       "0             0        0  \n",
       "1             0        0  \n",
       "2             0        1  \n",
       "3             0        0  \n",
       "4             0        1  \n",
       "...         ...      ...  \n",
       "69995         0        0  \n",
       "69996         0        0  \n",
       "69997         0        0  \n",
       "69998         0        1  \n",
       "69999         0        0  \n",
       "\n",
       "[70000 rows x 37 columns]"
      ]
     },
     "execution_count": 18,
     "metadata": {},
     "output_type": "execute_result"
    }
   ],
   "source": [
    "goemotions_1"
   ]
  },
  {
   "cell_type": "code",
   "execution_count": 19,
   "metadata": {},
   "outputs": [
    {
     "data": {
      "text/plain": [
       "True"
      ]
     },
     "execution_count": 19,
     "metadata": {},
     "output_type": "execute_result"
    }
   ],
   "source": [
    "goemotions_1['text'].duplicated().any()"
   ]
  },
  {
   "cell_type": "code",
   "execution_count": 20,
   "metadata": {},
   "outputs": [
    {
     "data": {
      "text/plain": [
       "True"
      ]
     },
     "execution_count": 20,
     "metadata": {},
     "output_type": "execute_result"
    }
   ],
   "source": [
    "goemotions_2['text'].duplicated().any()"
   ]
  },
  {
   "cell_type": "code",
   "execution_count": 21,
   "metadata": {},
   "outputs": [
    {
     "data": {
      "text/plain": [
       "True"
      ]
     },
     "execution_count": 21,
     "metadata": {},
     "output_type": "execute_result"
    }
   ],
   "source": [
    "goemotions_3['text'].duplicated().any()"
   ]
  },
  {
   "cell_type": "code",
   "execution_count": 22,
   "metadata": {},
   "outputs": [],
   "source": [
    "columns_goemotions = ['text', 'amusement', 'anger', 'disgust', 'embarrassment', 'confusion', 'disappointment', 'disgust', 'excitement', 'fear', 'grief', 'joy', 'love', 'nervousness', 'pride', 'realization', 'sadness', 'surprise']\n",
    "\n",
    "goemotions_1 = goemotions_1[columns_goemotions]\n",
    "goemotions_2 = goemotions_2[columns_goemotions]\n",
    "goemotions_3 = goemotions_3[columns_goemotions]"
   ]
  },
  {
   "cell_type": "code",
   "execution_count": 23,
   "metadata": {},
   "outputs": [],
   "source": [
    "def emotion_replacing(data, mapping, rename_to_sentence):\n",
    "\n",
    "    emotions = ['amusement', 'anger', 'disgust', 'embarrassment', 'confusion', 'disappointment',\n",
    "                'excitement', 'fear', 'grief', 'joy', 'love', 'nervousness', 'pride',\n",
    "                'realization', 'sadness', 'surprise']\n",
    "    \n",
    "    data = data[data[emotions].any(axis=1)]\n",
    "    \n",
    "    data['emotions'] = data[emotions].idxmax(axis=1)\n",
    "\n",
    "    data = data.drop(emotions, axis=1)\n",
    "\n",
    "    data = data.rename(columns={'text':'Sentences', 'emotions':'Emotions'})\n",
    "\n",
    "    data = data.replace(mapping)\n",
    "\n",
    "    return data"
   ]
  },
  {
   "cell_type": "code",
   "execution_count": 24,
   "metadata": {},
   "outputs": [
    {
     "name": "stderr",
     "output_type": "stream",
     "text": [
      "C:\\Users\\mened\\AppData\\Local\\Temp\\ipykernel_27048\\3474319956.py:9: SettingWithCopyWarning: \n",
      "A value is trying to be set on a copy of a slice from a DataFrame.\n",
      "Try using .loc[row_indexer,col_indexer] = value instead\n",
      "\n",
      "See the caveats in the documentation: https://pandas.pydata.org/pandas-docs/stable/user_guide/indexing.html#returning-a-view-versus-a-copy\n",
      "  data['emotions'] = data[emotions].idxmax(axis=1)\n",
      "C:\\Users\\mened\\AppData\\Local\\Temp\\ipykernel_27048\\3474319956.py:9: SettingWithCopyWarning: \n",
      "A value is trying to be set on a copy of a slice from a DataFrame.\n",
      "Try using .loc[row_indexer,col_indexer] = value instead\n",
      "\n",
      "See the caveats in the documentation: https://pandas.pydata.org/pandas-docs/stable/user_guide/indexing.html#returning-a-view-versus-a-copy\n",
      "  data['emotions'] = data[emotions].idxmax(axis=1)\n",
      "C:\\Users\\mened\\AppData\\Local\\Temp\\ipykernel_27048\\3474319956.py:9: SettingWithCopyWarning: \n",
      "A value is trying to be set on a copy of a slice from a DataFrame.\n",
      "Try using .loc[row_indexer,col_indexer] = value instead\n",
      "\n",
      "See the caveats in the documentation: https://pandas.pydata.org/pandas-docs/stable/user_guide/indexing.html#returning-a-view-versus-a-copy\n",
      "  data['emotions'] = data[emotions].idxmax(axis=1)\n"
     ]
    }
   ],
   "source": [
    "goemotions_1 = emotion_replacing(goemotions_1, emotions_mapping, 'text')\n",
    "goemotions_2 = emotion_replacing(goemotions_2, emotions_mapping, 'text')\n",
    "goemotions_3 = emotion_replacing(goemotions_3, emotions_mapping, 'text')"
   ]
  },
  {
   "cell_type": "code",
   "execution_count": 25,
   "metadata": {},
   "outputs": [],
   "source": [
    "merged = pd.concat([smileannotation, dataset, goemotions_1, goemotions_2, goemotions_3], axis=0)"
   ]
  },
  {
   "cell_type": "code",
   "execution_count": 26,
   "metadata": {},
   "outputs": [
    {
     "data": {
      "text/plain": [
       "array(['happiness', 'anger', 'disgust', 'sadness', 'surprise', 'fear'],\n",
       "      dtype=object)"
      ]
     },
     "execution_count": 26,
     "metadata": {},
     "output_type": "execute_result"
    }
   ],
   "source": [
    "merged['Emotions'].unique()"
   ]
  },
  {
   "cell_type": "code",
   "execution_count": 27,
   "metadata": {},
   "outputs": [],
   "source": [
    "merged = merged.drop_duplicates(subset=['Sentences'], keep='first')"
   ]
  },
  {
   "cell_type": "code",
   "execution_count": 28,
   "metadata": {},
   "outputs": [
    {
     "data": {
      "text/html": [
       "<div>\n",
       "<style scoped>\n",
       "    .dataframe tbody tr th:only-of-type {\n",
       "        vertical-align: middle;\n",
       "    }\n",
       "\n",
       "    .dataframe tbody tr th {\n",
       "        vertical-align: top;\n",
       "    }\n",
       "\n",
       "    .dataframe thead th {\n",
       "        text-align: right;\n",
       "    }\n",
       "</style>\n",
       "<table border=\"1\" class=\"dataframe\">\n",
       "  <thead>\n",
       "    <tr style=\"text-align: right;\">\n",
       "      <th></th>\n",
       "      <th>Sentences</th>\n",
       "      <th>Emotions</th>\n",
       "    </tr>\n",
       "  </thead>\n",
       "  <tbody>\n",
       "    <tr>\n",
       "      <th>1</th>\n",
       "      <td>Dorian Gray with Rainbow Scarf #LoveWins (from...</td>\n",
       "      <td>happiness</td>\n",
       "    </tr>\n",
       "    <tr>\n",
       "      <th>2</th>\n",
       "      <td>@SelectShowcase @Tate_StIves ... Replace with ...</td>\n",
       "      <td>happiness</td>\n",
       "    </tr>\n",
       "    <tr>\n",
       "      <th>3</th>\n",
       "      <td>@Sofabsports thank you for following me back. ...</td>\n",
       "      <td>happiness</td>\n",
       "    </tr>\n",
       "    <tr>\n",
       "      <th>4</th>\n",
       "      <td>@britishmuseum @TudorHistory What a beautiful ...</td>\n",
       "      <td>happiness</td>\n",
       "    </tr>\n",
       "    <tr>\n",
       "      <th>5</th>\n",
       "      <td>@NationalGallery @ThePoldarkian I have always ...</td>\n",
       "      <td>happiness</td>\n",
       "    </tr>\n",
       "    <tr>\n",
       "      <th>...</th>\n",
       "      <td>...</td>\n",
       "      <td>...</td>\n",
       "    </tr>\n",
       "    <tr>\n",
       "      <th>71168</th>\n",
       "      <td>A reminder that &gt;![NAME]!&lt; unironically likes ...</td>\n",
       "      <td>happiness</td>\n",
       "    </tr>\n",
       "    <tr>\n",
       "      <th>71176</th>\n",
       "      <td>Hopefully they got a chance to see [NAME].</td>\n",
       "      <td>happiness</td>\n",
       "    </tr>\n",
       "    <tr>\n",
       "      <th>71186</th>\n",
       "      <td>Perhaps you are right and the stereotype that ...</td>\n",
       "      <td>disgust</td>\n",
       "    </tr>\n",
       "    <tr>\n",
       "      <th>71187</th>\n",
       "      <td>I just called the Capitol Police. They are not...</td>\n",
       "      <td>anger</td>\n",
       "    </tr>\n",
       "    <tr>\n",
       "      <th>71188</th>\n",
       "      <td>Couldnt find this one in google, where abouts ...</td>\n",
       "      <td>disgust</td>\n",
       "    </tr>\n",
       "  </tbody>\n",
       "</table>\n",
       "<p>433313 rows × 2 columns</p>\n",
       "</div>"
      ],
      "text/plain": [
       "                                               Sentences   Emotions\n",
       "1      Dorian Gray with Rainbow Scarf #LoveWins (from...  happiness\n",
       "2      @SelectShowcase @Tate_StIves ... Replace with ...  happiness\n",
       "3      @Sofabsports thank you for following me back. ...  happiness\n",
       "4      @britishmuseum @TudorHistory What a beautiful ...  happiness\n",
       "5      @NationalGallery @ThePoldarkian I have always ...  happiness\n",
       "...                                                  ...        ...\n",
       "71168  A reminder that >![NAME]!< unironically likes ...  happiness\n",
       "71176         Hopefully they got a chance to see [NAME].  happiness\n",
       "71186  Perhaps you are right and the stereotype that ...    disgust\n",
       "71187  I just called the Capitol Police. They are not...      anger\n",
       "71188  Couldnt find this one in google, where abouts ...    disgust\n",
       "\n",
       "[433313 rows x 2 columns]"
      ]
     },
     "execution_count": 28,
     "metadata": {},
     "output_type": "execute_result"
    }
   ],
   "source": [
    "merged"
   ]
  },
  {
   "cell_type": "code",
   "execution_count": 29,
   "metadata": {},
   "outputs": [],
   "source": [
    "merged.to_csv('data/emotion_data_merged.csv', index=False)"
   ]
  },
  {
   "cell_type": "code",
   "execution_count": null,
   "metadata": {},
   "outputs": [],
   "source": [
    "merged_kaggle = merged"
   ]
  },
  {
   "cell_type": "code",
   "execution_count": null,
   "metadata": {},
   "outputs": [],
   "source": [
    "merged_kaggle['Emotions'] = merged['Emotions'].where(merged['Emotions'] == 'happiness', 'other')"
   ]
  },
  {
   "cell_type": "code",
   "execution_count": null,
   "metadata": {},
   "outputs": [],
   "source": [
    "merged_kaggle.to_csv('data/simplified_emotions.csv')"
   ]
  }
 ],
 "metadata": {
  "kernelspec": {
   "display_name": "base",
   "language": "python",
   "name": "python3"
  },
  "language_info": {
   "codemirror_mode": {
    "name": "ipython",
    "version": 3
   },
   "file_extension": ".py",
   "mimetype": "text/x-python",
   "name": "python",
   "nbconvert_exporter": "python",
   "pygments_lexer": "ipython3",
   "version": "3.10.9"
  }
 },
 "nbformat": 4,
 "nbformat_minor": 2
}
